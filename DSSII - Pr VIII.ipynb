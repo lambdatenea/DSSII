{
 "cells": [
  {
   "cell_type": "markdown",
   "metadata": {},
   "source": [
    "<img src=\"logoD.png\" alt=\"Logo MUII\" align=\"right\">\n",
    "\n",
    "<br><br>\n",
    "<a id=\"principio\"></a> \n",
    "\n",
    "## Práctica 8\n",
    "\n",
    "# Detección de anomalías\n",
    "\n",
    "\n",
    "<br>\n",
    "<div style=\"text-align: right\">\n",
    "Luis de la Ossa\n",
    "<br>\n",
    "Master Universitario en Ingeniería Informática\n",
    "<br>\n",
    "Universidad de Castilla-La Mancha\n",
    "\n",
    "</div>\n",
    "\n",
    "---"
   ]
  },
  {
   "cell_type": "markdown",
   "metadata": {},
   "source": [
    "La detección de anomalías se utiliza en contextos como el mantenimiento predictivo o la detección de fraude. En ellos, se genera continuamente información que sigue un mismo patrón pero, de manera ocasional, aparecen casos que son notablemente distintos, y que corresponden a situaciones anómalas como averías o fraudes. \n",
    "\n",
    "La detección de intrusiones en redes de computadores también es una de estas situaciones. La mayor parte del tiempo, el funcionamiento de la red es normal. Sin embargo, algunas veces las redes son objetivo de ataques o intrusiones, algunos de los cuales se reflejan en los indicadores que son monitorizados.  En esta práctica, se trabajará con conjunto de datos de intrusión en redes utilizada en la (Knowledge Discovery and Data Mining Tools Competition) KDD-CUP del año 1999. Información detallada sobre la naturaleza de estos datos puede leerse [aquí](http://kdd.ics.uci.edu/databases/kddcup99/task.html).\n",
    "\n",
    "En primer lugar, y debido a que los modelos de detección de anomalías no son supervisados, es necesario preparar los datos de manera adecuada. Después, se implementará un algoritmo de detección de anomalías basado en distribución normal (tanto univariadas y multivariada) visto en clase. Por último, se evaluará el algoritmo `OneClassSVM` que implementa `sklearn`. \n",
    "\n",
    "\n",
    "## 1. Preparación de datos\n",
    "\n",
    "<br>\n",
    "El conjunto de datos se descompone en 3 archivos principales y que, por agilidad, contienen un 10% de los casos de los disponibles en la base de datos original:\n",
    "\n",
    "1. `kddcup.data`, que es el archivo con los datos separados por comas. La última columna contiene la clase, que corresponde al tipo de tráfico. La etiqueta `normal` representa el tráfico normal, mientras que el resto representa intrusiones de 24 tipos distintos.\n",
    "\n",
    "2. `kddcup_test.data`, que es el archivo con los datos separados por comas, y que han de ser utilizados como test, es decir, solamente para reportar resultados. \n",
    "\n",
    "3. `kddcup.names`, que contiene en la primera línea los nombres de las etiquetas y, en cada una de las demás, el nombre de las variables. "
   ]
  },
  {
   "cell_type": "markdown",
   "metadata": {},
   "source": [
    "#### <font color=\"#004D7F\"> <i class=\"fa fa-pencil-square-o\" aria-hidden=\"true\" style=\"color:#113D68\"></i>  Ejercicio 1 </font>  \n",
    "\n",
    "Leer el archivo `kddcup.names`. Almacenar las etiquetas que categorizan los distintos tipos de tráfico en una lista denominada `traffic_types`, y las características del conjunto de datos en una lista denominada `features`. \n",
    "\n",
    "<div class=\"alert alert-block alert-info\">\n",
    "<i class=\"fa fa-info-circle\" aria-hidden=\"true\"></i>  Para hacer este ejercicio es necesario primero explorar el archivo. La primera línea contiene los tipos de tráfico separados por comas, mientras que cada línea posterior contiene el tupla del tipo `nombre_característica : tipo`, de las que hay que tomar solo el nombre de la característica. Además, hay que añadir una característica, la última, denominada `traffic`.\n",
    "</div>"
   ]
  },
  {
   "cell_type": "code",
   "execution_count": 1,
   "metadata": {},
   "outputs": [
    {
     "name": "stdout",
     "output_type": "stream",
     "text": [
      "Características (3 últimas):\n",
      "['dst_host_rerror_rate', 'dst_host_srv_rerror_rate', 'traffic']\n",
      "\n",
      "Tipos de tráfico:\n",
      "['teardrop', 'warezclient', 'warezmaster']\n"
     ]
    }
   ],
   "source": [
    "features = []\n",
    "traffic_types = [] \n",
    "\n",
    "import csv\n",
    "\n",
    "with open('./data/kddcup.names') as csvfile:\n",
    "    readCSV = csv.reader(csvfile, delimiter=',')\n",
    "    traffic_types = list(readCSV)[0]\n",
    "\n",
    "cont = 0\n",
    "with open('./data/kddcup.names') as csvfile:\n",
    "    readCSV = csv.reader(csvfile, delimiter=':')\n",
    "    features = [x[0] for x in list(readCSV)[1:]]\n",
    "features.append('traffic')\n",
    "\n",
    "print(\"Características (3 últimas):\")\n",
    "print(features[-3:])\n",
    "print()\n",
    "print(\"Tipos de tráfico:\")\n",
    "print(traffic_types[-3:])\n",
    "\n",
    "#Características (3 últimas):\n",
    "#['dst_host_rerror_rate', 'dst_host_srv_rerror_rate', 'traffic']\n",
    "#\n",
    "#Tipos de tráfico:\n",
    "#['teardrop', 'warezclient', 'warezmaster']"
   ]
  },
  {
   "cell_type": "markdown",
   "metadata": {},
   "source": [
    "#### <font color=\"#004D7F\"> <i class=\"fa fa-pencil-square-o\" aria-hidden=\"true\" style=\"color:#113D68\"></i>  Ejercicio 2 </font>  \n",
    "\n",
    "Leer los datos que contiene el archivo `kddcup.data` y almacenarlos en un _DataFrame_ denominado `data`. Utilizar los valores almacenados en `features` como nombres de las columnas. "
   ]
  },
  {
   "cell_type": "code",
   "execution_count": 2,
   "metadata": {},
   "outputs": [
    {
     "data": {
      "text/plain": [
       "(494021, 42)"
      ]
     },
     "execution_count": 2,
     "metadata": {},
     "output_type": "execute_result"
    }
   ],
   "source": [
    "import pandas as pd\n",
    "\n",
    "data = pd.read_csv(\"data/kddcup.data\", sep=',',header=None,names=features)\n",
    "\n",
    "data.shape\n",
    "# (494021, 42)"
   ]
  },
  {
   "cell_type": "markdown",
   "metadata": {},
   "source": [
    "Cada una de las filas del archivo `kddcup.data` termina con un punto, que es considerado como parte de la etiqueta relativa al tráfico. Así, en las filas relativas a tráfico normal, la columna `traffic` toma el valor `\"normal.\"` en lugar de `\"normal\"`. La siguiente celda elimina los puntos. "
   ]
  },
  {
   "cell_type": "code",
   "execution_count": 3,
   "metadata": {
    "collapsed": true
   },
   "outputs": [],
   "source": [
    "data['traffic'] = data['traffic'].apply(lambda label: label[:-1])"
   ]
  },
  {
   "cell_type": "markdown",
   "metadata": {},
   "source": [
    "La columna `service` contiene el servicio al que corresponde cada entrada. La siguiente celda muestra los distintos servicios de los que se han monitorizado datos."
   ]
  },
  {
   "cell_type": "code",
   "execution_count": 4,
   "metadata": {},
   "outputs": [
    {
     "data": {
      "text/plain": [
       "array(['http', 'smtp', 'finger', 'domain_u', 'auth', 'telnet', 'ftp',\n",
       "       'eco_i', 'ntp_u', 'ecr_i', 'other', 'private', 'pop_3', 'ftp_data',\n",
       "       'rje', 'time', 'mtp', 'link', 'remote_job', 'gopher', 'ssh', 'name',\n",
       "       'whois', 'domain', 'login', 'imap4', 'daytime', 'ctf', 'nntp',\n",
       "       'shell', 'IRC', 'nnsp', 'http_443', 'exec', 'printer', 'efs',\n",
       "       'courier', 'uucp', 'klogin', 'kshell', 'echo', 'discard', 'systat',\n",
       "       'supdup', 'iso_tsap', 'hostnames', 'csnet_ns', 'pop_2', 'sunrpc',\n",
       "       'uucp_path', 'netbios_ns', 'netbios_ssn', 'netbios_dgm', 'sql_net',\n",
       "       'vmnet', 'bgp', 'Z39_50', 'ldap', 'netstat', 'urh_i', 'X11',\n",
       "       'urp_i', 'pm_dump', 'tftp_u', 'tim_i', 'red_i'], dtype=object)"
      ]
     },
     "execution_count": 4,
     "metadata": {},
     "output_type": "execute_result"
    }
   ],
   "source": [
    "data['service'].unique()"
   ]
  },
  {
   "cell_type": "markdown",
   "metadata": {},
   "source": [
    "#### <font color=\"#004D7F\"> <i class=\"fa fa-pencil-square-o\" aria-hidden=\"true\" style=\"color:#113D68\"></i>  Ejercicio 3 </font>  \n",
    "\n",
    "Seleccionar los casos correspondientes al servicio _\"http\"_ y descartar los demás. El _DataFrame_ resultante ha de permanecer almacenado `data`. "
   ]
  },
  {
   "cell_type": "code",
   "execution_count": 5,
   "metadata": {},
   "outputs": [
    {
     "name": "stdout",
     "output_type": "stream",
     "text": [
      "(64293, 42)\n"
     ]
    }
   ],
   "source": [
    "data = data.loc[data.service == 'http']\n",
    "\n",
    "print(data.shape)\n",
    "# (64293, 42)"
   ]
  },
  {
   "cell_type": "markdown",
   "metadata": {},
   "source": [
    "#### <font color=\"#004D7F\"> <i class=\"fa fa-pencil-square-o\" aria-hidden=\"true\" style=\"color:#113D68\"></i>  Ejercicio 4 </font>  \n",
    "\n",
    "Dibujar un gráfico de barras con el número de casos correspondientes a cada clase. \n",
    "\n",
    "<div class=\"alert alert-block alert-info\">\n",
    "<i class=\"fa fa-info-circle\" aria-hidden=\"true\"></i> Un modo muy sencillo de hacerlo, en una línea, es directamente mediante las funciones que Pandas para la elaboración de gráficas. Concretamente, mediante `Series.plot(kind='bar')`.\n",
    "</div>"
   ]
  },
  {
   "cell_type": "code",
   "execution_count": 6,
   "metadata": {},
   "outputs": [
    {
     "data": {
      "text/plain": [
       "<matplotlib.axes._subplots.AxesSubplot at 0x7f57b656f160>"
      ]
     },
     "execution_count": 6,
     "metadata": {},
     "output_type": "execute_result"
    },
    {
     "data": {
      "image/png": "[encoded data removed]",
      "text/plain": [
       "<matplotlib.figure.Figure at 0x7f57b656f908>"
      ]
     },
     "metadata": {},
     "output_type": "display_data"
    }
   ],
   "source": [
    "%matplotlib inline\n",
    "\n",
    "data.groupby('traffic').duration.count().plot(kind='bar')"
   ]
  },
  {
   "cell_type": "markdown",
   "metadata": {},
   "source": [
    "#### <font color=\"#004D7F\"> <i class=\"fa fa-pencil-square-o\" aria-hidden=\"true\" style=\"color:#113D68\"></i>  Ejercicio 5</font>  \n",
    "\n",
    "En este contexto, solo resulta de interés distinguir entre las entradas que corresponden a tráfico normal y las anomalías. Sustituir el valor de la columna `traffic` por $1$ donde éste corresponda a intrusiones (sea distinto de `normal`) y por $0$ donde éste sea normal. "
   ]
  },
  {
   "cell_type": "code",
   "execution_count": 7,
   "metadata": {
    "collapsed": true
   },
   "outputs": [],
   "source": [
    "data.traffic = data.traffic.map(lambda x: 0 if x == 'normal' else 1)"
   ]
  },
  {
   "cell_type": "markdown",
   "metadata": {},
   "source": [
    "La siguiente celda selecciona las columnas con datos numéricos, descartando las demás. "
   ]
  },
  {
   "cell_type": "code",
   "execution_count": 8,
   "metadata": {
    "collapsed": true
   },
   "outputs": [],
   "source": [
    "import numpy as np\n",
    "data = data.select_dtypes(include=[np.number])"
   ]
  },
  {
   "cell_type": "markdown",
   "metadata": {},
   "source": [
    "<br>\n",
    "\n",
    "El método propuesto en clase utiliza datos que no corresponden a anomalías para aprender el modelo, mientras que las anomalías conocidas se incluyen en el conjunto de validación y en el de test. Se dividirá el conjunto de datos en dos partes. La primera, el conjunto de entrenamiento, contendrá datos de tráfico normal. Mientras que la segunda, para validación, contendrá datos de tráfico normal e intrusiones. Para ello, es preciso primero separarlos.\n",
    "\n",
    "#### <font color=\"#004D7F\"> <i class=\"fa fa-pencil-square-o\" aria-hidden=\"true\" style=\"color:#113D68\"></i>  Ejercicio 6</font>  \n",
    "\n",
    "Almacenar los casos correspondientes a tráfico normal en un _Dataframe_ denominado `data_normal` y los correspondientes a anomalías en otro denominado `data_instrusion`. Mostrar el número y proporción de anomalías. \n"
   ]
  },
  {
   "cell_type": "code",
   "execution_count": 10,
   "metadata": {},
   "outputs": [
    {
     "name": "stdout",
     "output_type": "stream",
     "text": [
      "Número de anomalías: 2407\n",
      "Proporción de anomalías: 0.037\n"
     ]
    }
   ],
   "source": [
    "data_normal = data.loc[data.traffic == 0]\n",
    "data_intrusion = data.loc[data.traffic == 1]\n",
    "\n",
    "num_anomalies = data_intrusion.shape[0]\n",
    "print(\"Número de anomalías:\", num_anomalies)\n",
    "prop_anomalies = data_intrusion.shape[0]/(data_normal.shape[0]+data_intrusion.shape[0])\n",
    "print(\"Proporción de anomalías: {:.3f}\".format(prop_anomalies))\n",
    "\n",
    "#Número de anomalías: 2407\n",
    "#Proporción de anomalías: 0.037"
   ]
  },
  {
   "cell_type": "markdown",
   "metadata": {},
   "source": [
    "#### <font color=\"#004D7F\"> <i class=\"fa fa-pencil-square-o\" aria-hidden=\"true\" style=\"color:#113D68\"></i>  Ejercicio 7</font>  \n",
    "\n",
    "Dividir el conjunto de datos `data_normal` en dos subconjuntos, denominados `train` y `validation` que contengan el 80% y 20% de los datos respectivamente. Después, añadir los datos de `data_intrusion` al conjunto `validation`."
   ]
  },
  {
   "cell_type": "code",
   "execution_count": 11,
   "metadata": {},
   "outputs": [
    {
     "name": "stdout",
     "output_type": "stream",
     "text": [
      "(49508, 39)\n",
      "(14785, 39)\n"
     ]
    },
    {
     "name": "stderr",
     "output_type": "stream",
     "text": [
      "/home/hector/anaconda3/lib/python3.6/site-packages/sklearn/model_selection/_split.py:2026: FutureWarning: From version 0.21, test_size will always complement train_size unless both are specified.\n",
      "  FutureWarning)\n"
     ]
    }
   ],
   "source": [
    "from sklearn.model_selection import train_test_split\n",
    "\n",
    "#\n",
    "# COMPLETAR\n",
    "train,  validation = train_test_split(data_normal,train_size=0.8)\n",
    "validation = validation.append(data_intrusion)\n",
    "\n",
    "print(train.shape)\n",
    "print(validation.shape)\n",
    "#(49508, 39)\n",
    "#(14785, 39)"
   ]
  },
  {
   "cell_type": "markdown",
   "metadata": {},
   "source": [
    "Como se trata de aprendizaje __NO__ supervisado, la etiqueta que indica el tipo de tráfico no se utilizará durante el aprendizaje, pero será almacenada para la evaluación.  "
   ]
  },
  {
   "cell_type": "code",
   "execution_count": 12,
   "metadata": {
    "collapsed": true
   },
   "outputs": [],
   "source": [
    "validation_traffic = validation['traffic']\n",
    "del train['traffic']\n",
    "del validation['traffic']"
   ]
  },
  {
   "cell_type": "markdown",
   "metadata": {},
   "source": [
    "#### <font color=\"#004D7F\"> <i class=\"fa fa-pencil-square-o\" aria-hidden=\"true\" style=\"color:#113D68\"></i>  Ejercicio 8</font>  \n",
    "\n",
    "Preparar los datos de test. Para ello:\n",
    "\n",
    "* Almacenar los datos del archivo `kddcup_test.data` en un _DataFrame_ denominado test.\n",
    "* Asignar el nombre de las columnas, almacenado en `features`\n",
    "* Eliminar el caracter '.'  de las etiquetas correspondientes a la columna `traffic`.\n",
    "* Seleccionar los datos correspondientes al servicio _\"http\"_.\n",
    "* Etiquetar el tráfico normal como 0, y el anómalo como 1.\n",
    "* Descartar las variables no numéricas. \n",
    "\n",
    "<div class=\"alert alert-block alert-info\">\n",
    "<i class=\"fa fa-info-circle\" aria-hidden=\"true\"></i> Todas las operaciones se han hecho anteriomente. \n",
    "</div>"
   ]
  },
  {
   "cell_type": "code",
   "execution_count": 13,
   "metadata": {},
   "outputs": [
    {
     "name": "stdout",
     "output_type": "stream",
     "text": [
      "    src_bytes  dst_bytes\n",
      "9         223        185\n",
      "11        230        260\n"
     ]
    }
   ],
   "source": [
    "# Lee los datos y nombra las columnas\n",
    "test = pd.read_csv('data/kddcup_test.data',sep=',',header=None,names=features)\n",
    "\n",
    "# Elimina los puntos\n",
    "test['traffic'] = test['traffic'].apply(lambda label: label[:-1])\n",
    "\n",
    "# Selecciona tráfico http\n",
    "test = test.loc[test.service == 'http']\n",
    "\n",
    "# Reetiqueta la columna traffic\n",
    "test.traffic = test.traffic.apply(lambda x: 0 if x == 'normal' else 1)\n",
    "\n",
    "# Descarta variables no numéricas\n",
    "test = test.select_dtypes(include=[np.number])\n",
    "\n",
    "print(test[['src_bytes', 'dst_bytes']].head(2))\n",
    "#    src_bytes  dst_bytes\n",
    "#9         223        185\n",
    "#11        230        260"
   ]
  },
  {
   "cell_type": "markdown",
   "metadata": {},
   "source": [
    "Almacena los datos relativos a la naturaleza del tráfico en la variable `test_traffic` y los borra del _DataFrame_."
   ]
  },
  {
   "cell_type": "code",
   "execution_count": 17,
   "metadata": {
    "collapsed": true
   },
   "outputs": [],
   "source": [
    "test_traffic = test['traffic']\n",
    "del test['traffic']"
   ]
  },
  {
   "cell_type": "markdown",
   "metadata": {},
   "source": [
    "## 2. Elaboración de un basado en densidad.\n",
    "\n",
    "\n",
    "<br>\n",
    "Los métodos basados en densidad estiman una función de densidad de la información de entrenamiento (casos __no__ anómalos). Para cada nuevo caso $x$, calculan su probabilidad dada esa función, $p(x)$, y lo clasifican como anomalía si $p(x) < \\epsilon$.\n",
    "\n",
    "\n",
    "### 2.1 Modelo univariado\n",
    "\n",
    "En su versión más sencilla, se estima la distribución de probabilidad _univariada_ de cada variable como una distribución normal con la media y desviación correspondiente, es decir:\n",
    "\n",
    "* $x_1 \\thicksim {\\cal{N}}(\\mu_1,\\sigma_1)$\n",
    "* $x_2 \\thicksim {\\cal{N}}(\\mu_2,\\sigma_2)$\n",
    "* ...\n",
    "* $x_n \\thicksim {\\cal{N}}(\\mu_n,\\sigma_n)$\n",
    "\n",
    "La probabilidad de un caso $x$, $p(x)$, se obtiene entonces como el producto de las probabilidades individuales:\n",
    "\n",
    "$$\n",
    "p(x) = \\prod_{j=1}^n p(x_j;\\mu_j,\\sigma_j) = p(x_1;\\mu_1,\\sigma_1) \\times p(x_2;\\mu_2,\\sigma_2) \\times \\ldots \\times p(x_n;\\mu_n,\\sigma_n)\n",
    "$$\n",
    "\n",
    "La siguiente celda calcula la media y desviación de cada variable,  construye una distribución normal con cada una de ellas, y calcula la probabilidad del primer caso de la base de datos. Para representar una distribución normal con media `mu` y desviación `sigma` se puede utilizar la clase `scipy.stats.norm(mu,sigma)`. Ésta tiene una función denominada `pdf(value)` que devuelve la probabilidad de un valor determinado.\n",
    "\n",
    "Por sencillez, se trabajará con las tres variables más relevantes del conjunto de datos."
   ]
  },
  {
   "cell_type": "code",
   "execution_count": 24,
   "metadata": {},
   "outputs": [
    {
     "name": "stdout",
     "output_type": "stream",
     "text": [
      "El primer caso es:  [   0.  214.  439.]\n",
      "La probabilidad del primer caso es: 1.60346637727e-09\n"
     ]
    }
   ],
   "source": [
    "import scipy.stats\n",
    "\n",
    "relevant_features = [\"duration\", \"src_bytes\", \"dst_bytes\"]\n",
    "\n",
    "# Calcula las medias y las desviaciones\n",
    "means = np.mean(train[relevant_features].values, axis=0)\n",
    "stds = np.std(train[relevant_features].values, axis=0)\n",
    "\n",
    "# Crea las distribuciones normales univariadas correspondientes a cada vaiable\n",
    "unorms = []\n",
    "for var in range(len(means)):\n",
    "    unorms.append(scipy.stats.norm(means[var],stds[var]))\n",
    "\n",
    "# Calcula la probabilidad correspondiente al primer caso de la base de datos    \n",
    "frow = train.iloc[0][relevant_features].values\n",
    "print(\"El primer caso es: \",frow)\n",
    "prob_frow = unorms[0].pdf(frow[0]) * unorms[1].pdf(frow[1]) * unorms[2].pdf(frow[2])\n",
    "print(\"La probabilidad del primer caso es:\", prob_frow)"
   ]
  },
  {
   "cell_type": "markdown",
   "metadata": {},
   "source": [
    "La siguiente función calcula la probabilidad de una instancia dadas las distribuciones de probabilidad almacenadas en `unorms`."
   ]
  },
  {
   "cell_type": "code",
   "execution_count": 25,
   "metadata": {},
   "outputs": [
    {
     "name": "stdout",
     "output_type": "stream",
     "text": [
      "La probabilidad del primer caso es: 1.60346637727e-09\n"
     ]
    }
   ],
   "source": [
    "def prob(x):\n",
    "    prob = 1\n",
    "    for variable, value in enumerate(x):\n",
    "        prob *= unorms[variable].pdf(value)\n",
    "    return prob\n",
    "\n",
    "print(\"La probabilidad del primer caso es:\", prob(frow))"
   ]
  },
  {
   "cell_type": "markdown",
   "metadata": {},
   "source": [
    "#### <font color=\"#004D7F\"> <i class=\"fa fa-pencil-square-o\" aria-hidden=\"true\" style=\"color:#113D68\"></i>  Ejercicio 9</font>  \n",
    "\n",
    "Calcular las probabilidades asociadas a todos los ejemplos en el conjunto `validation` y almacenarlas en el vector `validation_probs`. Dibujar un histograma (200 bins) con estas probabilidades."
   ]
  },
  {
   "cell_type": "code",
   "execution_count": 26,
   "metadata": {},
   "outputs": [
    {
     "data": {
      "image/png": "[encoded data removed]",
      "text/plain": [
       "<matplotlib.figure.Figure at 0x7f57b6803358>"
      ]
     },
     "metadata": {},
     "output_type": "display_data"
    }
   ],
   "source": [
    "import matplotlib.pyplot as plt\n",
    "%matplotlib inline\n",
    "\n",
    "validation_probs = [prob(x) for x in validation[relevant_features].values]\n",
    "plt.hist(validation_probs,bins=200)\n",
    "plt.xlabel('Probabilidades')\n",
    "plt.ylabel('Cantidad')\n",
    "plt.show()"
   ]
  },
  {
   "cell_type": "markdown",
   "metadata": {},
   "source": [
    "#### <font color=\"#004D7F\"> <i class=\"fa fa-pencil-square-o\" aria-hidden=\"true\" style=\"color:#113D68\"></i>  Ejercicio 10</font>  \n",
    "\n",
    "En vista del histograma anterior, asignar un valor a la variable `epsilon` y crear un vector denominado `preds_val` con las predicciones para cada elemento del conjunto de validación. Este vector puede tomar los valores 0, para tráfico normal, y 1, para anomalía. Ajustar el valor de epsilon para maximizar el f1 score (podéis hacerlo manualmente). \n",
    "\n",
    "\n",
    "<div class=\"alert alert-block alert-info\">\n",
    "<i class=\"fa fa-info-circle\" aria-hidden=\"true\"></i> Para determinar el valor de la predicción para un caso, se ha de comparar la probabilidad almacenada en `validation_probs` con el valor de `epsilon` (si es menor, se trata de una anomalía, y se asigna el valor uno). \n",
    "</div>"
   ]
  },
  {
   "cell_type": "code",
   "execution_count": 30,
   "metadata": {},
   "outputs": [
    {
     "name": "stdout",
     "output_type": "stream",
     "text": [
      "precision:  0.999546485261\n",
      "recall:  0.915662650602\n",
      "f1:  0.955767562879\n"
     ]
    }
   ],
   "source": [
    "from sklearn import metrics  \n",
    "\n",
    "epsilon = 0.00000000000000000000000000000000000000000000000000000000000000000000000000000000000000000000000000000000000000000000000000000000000000000000000000000000000000000000000000000000000000000000000000000000000000000000000000000000000000000000000000000000000000000000000000000000000000000000000000000000000000000000000000000000001\n",
    "preds_val = list(map(lambda p: 1 if p<epsilon else 0, validation_probs))\n",
    "\n",
    "print(\"precision: \", metrics.precision_score(validation_traffic, preds_val))  \n",
    "print(\"recall: \", metrics.recall_score(validation_traffic, preds_val))\n",
    "print(\"f1: \", metrics.f1_score(validation_traffic, preds_val))"
   ]
  },
  {
   "cell_type": "markdown",
   "metadata": {},
   "source": [
    "#### <font color=\"#004D7F\"> <i class=\"fa fa-pencil-square-o\" aria-hidden=\"true\" style=\"color:#113D68\"></i>  Ejercicio 11</font>  \n",
    "\n",
    "Finalmente, reportar el resultado con respecto a los datos de test, almacenados en las variables `test` y `test_traffic`."
   ]
  },
  {
   "cell_type": "code",
   "execution_count": 31,
   "metadata": {},
   "outputs": [
    {
     "name": "stdout",
     "output_type": "stream",
     "text": [
      "precision:  0.990797546012\n",
      "recall:  0.811557788945\n",
      "f1:  0.89226519337\n"
     ]
    }
   ],
   "source": [
    "test_probs = [prob(x) for x in test[relevant_features].values]\n",
    "preds_test = list(map(lambda p: 1 if p<epsilon else 0, test_probs))\n",
    "\n",
    "print(\"precision: \", metrics.precision_score(test_traffic, preds_test))  \n",
    "print(\"recall: \", metrics.recall_score(test_traffic, preds_test))\n",
    "print(\"f1: \", metrics.f1_score(test_traffic, preds_test))  "
   ]
  },
  {
   "cell_type": "markdown",
   "metadata": {},
   "source": [
    "### 2.2 Modelo multivariado\n",
    "\n",
    "En el modelo multivariado, la distribución de probabilidad se representa mediante el vector de medias, $\\mu$ y la matriz de covarianzas, $\\Sigma$, como:\n",
    "\n",
    "$$\n",
    "p(x) = \\frac{1}{(2\\pi)^\\frac{n}{2} |\\Sigma|^\\frac{1}{2}}e^{\\left(-\\frac{1}{2}(x - \\mu)^T\\Sigma^{-1}(x-\\mu)  \\right) }\n",
    "$$\n",
    "\n",
    "Dada la distribución normal multivariada definida a partir de un vector de medias y la matriz de covarianzas, la clase `scipy.stats.multivariate_normal` permite calcular la probabilidad asociada a cada caso. \n",
    "\n",
    "La siguiente celda estima la función de densidad y calcula la probabilidad asociada a cada uno de los casos del conjunto de validación. "
   ]
  },
  {
   "cell_type": "code",
   "execution_count": 32,
   "metadata": {
    "collapsed": true
   },
   "outputs": [],
   "source": [
    "from scipy.stats import multivariate_normal\n",
    "\n",
    "means = train[relevant_features].mean().values\n",
    "covs = np.cov(train[relevant_features].values.T)\n",
    "\n",
    "validation_probs = multivariate_normal.pdf(validation[relevant_features].values, means, covs)"
   ]
  },
  {
   "cell_type": "markdown",
   "metadata": {},
   "source": [
    "#### <font color=\"#004D7F\"> <i class=\"fa fa-pencil-square-o\" aria-hidden=\"true\" style=\"color:#113D68\"></i>  Ejercicio 12</font>  \n",
    "Dibujar un histograma (200 bins) con estas probabilidades."
   ]
  },
  {
   "cell_type": "code",
   "execution_count": 33,
   "metadata": {},
   "outputs": [
    {
     "data": {
      "image/png": "[encoded data removed]",
      "text/plain": [
       "<matplotlib.figure.Figure at 0x7f57b43ec978>"
      ]
     },
     "metadata": {},
     "output_type": "display_data"
    }
   ],
   "source": [
    "plt.hist(validation_probs,bins=200)\n",
    "plt.xlabel('Probabilidades')\n",
    "plt.ylabel('Cantidad')\n",
    "plt.show()"
   ]
  },
  {
   "cell_type": "markdown",
   "metadata": {},
   "source": [
    "#### <font color=\"#004D7F\"> <i class=\"fa fa-pencil-square-o\" aria-hidden=\"true\" style=\"color:#113D68\"></i>  Ejercicio 13</font>  \n",
    "\n",
    "Proceder de manera similar al ejercicio 10. Predecir las etiquetas para los casos del conjunto de validación, y ajustar el valor de $\\epsilon$ que maximice el f1 score."
   ]
  },
  {
   "cell_type": "code",
   "execution_count": 37,
   "metadata": {},
   "outputs": [
    {
     "name": "stdout",
     "output_type": "stream",
     "text": [
      "precision:  0.999546485261\n",
      "recall:  0.915662650602\n",
      "f1:  0.955767562879\n"
     ]
    }
   ],
   "source": [
    "epsilon = 0.00000000000000000000000000000000000000000000000000000000000000000000000000000000000000000000000000000000000000000000000000000000000000000000000000000000000000000000000000000000000000000000000000000000000000000000000000000000000000000000000000000000000000000000000000000000000000000000000000000000000000000000000000000000001\n",
    "preds_val = list(map(lambda p: 1 if p<epsilon else 0, validation_probs))\n",
    "\n",
    "print(\"precision: \", metrics.precision_score(validation_traffic, preds_val))  \n",
    "print(\"recall: \", metrics.recall_score(validation_traffic, preds_val))\n",
    "print(\"f1: \", metrics.f1_score(validation_traffic, preds_val))  "
   ]
  },
  {
   "cell_type": "markdown",
   "metadata": {},
   "source": [
    "#### <font color=\"#004D7F\"> <i class=\"fa fa-pencil-square-o\" aria-hidden=\"true\" style=\"color:#113D68\"></i>  Ejercicio 14</font>  \n",
    "\n",
    "Evaluar el modelo anterior (distribución y $\\epsilon$) sobre los datos de test."
   ]
  },
  {
   "cell_type": "code",
   "execution_count": 38,
   "metadata": {},
   "outputs": [
    {
     "name": "stdout",
     "output_type": "stream",
     "text": [
      "precision:  0.990797546012\n",
      "recall:  0.811557788945\n",
      "f1:  0.89226519337\n"
     ]
    }
   ],
   "source": [
    "test_probs = multivariate_normal.pdf(test[relevant_features].values, means, covs)\n",
    "preds_test = list(map(lambda p: 1 if p<epsilon else 0, test_probs))\n",
    "\n",
    "print(\"precision: \", metrics.precision_score(test_traffic, preds_test))  \n",
    "print(\"recall: \", metrics.recall_score(test_traffic, preds_test))\n",
    "print(\"f1: \", metrics.f1_score(test_traffic, preds_test))  "
   ]
  },
  {
   "cell_type": "markdown",
   "metadata": {},
   "source": [
    "## 3. OneClassSVM\n",
    "\n",
    "Por último, se va a evaluar uno de los modelos que implementa sklearn. En concreto, `OneClassSVM`, que es un algoritmo de tipo SVM en el que se acota el espacio en el que se encuentran los casos de entrenamiento. \n",
    "\n",
    "#### <font color=\"#004D7F\"> <i class=\"fa fa-pencil-square-o\" aria-hidden=\"true\" style=\"color:#113D68\"></i>  Ejercicio 15</font>  \n",
    "\n",
    "Entrenar un modelo `svm.OneClassSVM` con los datos de entrenamiento. Fijar el parámetro `nu=prop_anomalies`."
   ]
  },
  {
   "cell_type": "code",
   "execution_count": 60,
   "metadata": {
    "collapsed": true
   },
   "outputs": [],
   "source": [
    "from sklearn import svm\n",
    "\n",
    "model = svm.OneClassSVM(nu=prop_anomalies, kernel=\"rbf\")"
   ]
  },
  {
   "cell_type": "markdown",
   "metadata": {},
   "source": [
    "#### <font color=\"#004D7F\"> <i class=\"fa fa-pencil-square-o\" aria-hidden=\"true\" style=\"color:#113D68\"></i>  Ejercicio 16</font>  \n",
    "\n",
    "Utilizar el modelo anterior en la predicción del conjunto de validación. Almacenar los resultados en la variable `preds_val`. Para utilizar de manera correcta las métricas, sustituir el valor 1 por 0, y el valor -1 por 1. "
   ]
  },
  {
   "cell_type": "code",
   "execution_count": 61,
   "metadata": {},
   "outputs": [],
   "source": [
    "model.fit(train[relevant_features])\n",
    "preds_val = list(map(lambda x: 0 if x == 1 else 1, model.predict(validation[relevant_features])))"
   ]
  },
  {
   "cell_type": "code",
   "execution_count": 62,
   "metadata": {},
   "outputs": [
    {
     "name": "stdout",
     "output_type": "stream",
     "text": [
      "precision:  0.200380814217\n",
      "recall:  0.918155380141\n",
      "f1:  0.328966954451\n"
     ]
    }
   ],
   "source": [
    "print(\"precision: \", metrics.precision_score(validation_traffic, preds_val))  \n",
    "print(\"recall: \", metrics.recall_score(validation_traffic, preds_val))\n",
    "print(\"f1: \", metrics.f1_score(validation_traffic, preds_val))  "
   ]
  },
  {
   "cell_type": "markdown",
   "metadata": {},
   "source": [
    "#### <font color=\"#004D7F\"> <i class=\"fa fa-pencil-square-o\" aria-hidden=\"true\" style=\"color:#113D68\"></i>  Ejercicio 17</font>\n",
    "\n",
    "Obtener los datos para el conjunto test. "
   ]
  },
  {
   "cell_type": "code",
   "execution_count": 48,
   "metadata": {},
   "outputs": [],
   "source": [
    "preds_test = list(map(lambda x: 0 if x == 1 else 1, model.predict(test[relevant_features])))"
   ]
  },
  {
   "cell_type": "code",
   "execution_count": 49,
   "metadata": {},
   "outputs": [
    {
     "name": "stdout",
     "output_type": "stream",
     "text": [
      "precision:  0.0455696915109\n",
      "recall:  0.813567839196\n",
      "f1:  0.0863052401514\n"
     ]
    }
   ],
   "source": [
    "print(\"precision: \", metrics.precision_score(test_traffic, preds_test))  \n",
    "print(\"recall: \", metrics.recall_score(test_traffic, preds_test))\n",
    "print(\"f1: \", metrics.f1_score(test_traffic, preds_test))  "
   ]
  },
  {
   "cell_type": "markdown",
   "metadata": {},
   "source": [
    "<div style=\"text-align: right\"> <font size=5> [<i class=\"fa fa-arrow-circle-up\" aria-hidden=\"true\" style=\"color:#990003\">](#principio)</i></font></div>\n",
    "\n",
    "---\n",
    "\n",
    "<div style=\"text-align: right\"> <font size=6><i class=\"fa fa-coffee\" aria-hidden=\"true\" style=\"color:#990003\"></i> </font></div>"
   ]
  }
 ],
 "metadata": {
  "kernelspec": {
   "display_name": "Python 3",
   "language": "python",
   "name": "python3"
  },
  "language_info": {
   "codemirror_mode": {
    "name": "ipython",
    "version": 3
   },
   "file_extension": ".py",
   "mimetype": "text/x-python",
   "name": "python",
   "nbconvert_exporter": "python",
   "pygments_lexer": "ipython3",
   "version": "3.6.3"
  }
 },
 "nbformat": 4,
 "nbformat_minor": 2
}
