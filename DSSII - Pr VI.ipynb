{
 "cells": [
  {
   "cell_type": "markdown",
   "metadata": {},
   "source": [
    "<img src=\"logoD.png\" alt=\"Logo MUII\" align=\"right\">\n",
    "\n",
    "<br><br>\n",
    "<a id=\"principio\"></a> \n",
    "\n",
    "## Práctica 6\n",
    "\n",
    "# Sistema híbrido de recomendación de películas\n",
    "\n",
    "\n",
    "<br>\n",
    "<div style=\"text-align: right\">\n",
    "Luis de la Ossa\n",
    "<br>\n",
    "Master Universitario en Ingeniería Informática\n",
    "<br>\n",
    "Universidad de Castilla-La Mancha\n",
    "\n",
    "</div>\n",
    "\n",
    "---\n",
    "\n",
    "## 1. Introducción \n",
    "\n",
    "<br>\n",
    "En esta práctica se elaborará un sencillo sistema de recomendación de películas. Para ello, se utilizará uno de los conjuntos de datos de [Movielens](https://grouplens.org/datasets/movielens/latest/), que ya fue introducido en la práctica cuatro, y que proporciona el \"_genoma_\" para aproximadamente de 11000 de ellas. Además, este conjunto de datos incluye información sobre votaciones hechas por más 270000 usuarios (26000000 de votos en total). \n",
    "\n",
    "Debido a que se dispone de información tanto relativa al contenido de las películas como a valoraciones, se elaborará un modelo híbrido. En concreto, para un usuario, se determinarán primero las películas más similares a las valoradas positivamente y, posteriormente, se seleccionarán algunas de ellas en función de un _score_ obtenido mediante filtrado colaborativo. \n",
    "\n",
    "El esquema planteado constituye, evidentemente, _una propuesta_, y puede ser alterado, cambiado o mejorado libremente. "
   ]
  },
  {
   "cell_type": "markdown",
   "metadata": {},
   "source": [
    "---\n",
    "<table cellspacing=\"0\" cellpadding=\"0\" border=\"0\">\n",
    "    <tbody>\n",
    "        <tr>\n",
    "            <td rowspan=\"2\">\n",
    "                <div><img height=\"317\" width=\"214\" alt=\"io\" title=\"io\" style=\"background-repeat: no-repeat;backgroundposition: 50%;border-radius: 50%;background-size: 100% auto;\" src=\"https://media.licdn.com/dms/image/C4E03AQED9j4Ps-ibhQ/profile-displayphoto-shrink_200_200/0?e=1526270400&v=alpha&t=tAxeQ_DwETWyaBjFOohvti4cvCU4-RWwZjTQN88gG2U\" </div>\n",
    "            </td>\n",
    "            <td>\n",
    "                <h1 style=\"color:#113D68\"><span>Héctor Fernando Bahamonde Rivera</span></h1>\n",
    "                <hr>\n",
    "                <center><i class=\"fa fa-envelope\" style=\"color:#113D68\"></i></center> \n",
    "                <h2><a href=\"mailto:HectorFernando.Bahamonde@alu.uclm.es\" target=\"_top\">HectorFernando.Bahamonde@alu.uclm.es</a></h2>\n",
    "            </td>\n",
    "        </tr>\n",
    "   </tbody>\n",
    "</table>"
   ]
  },
  {
   "cell_type": "code",
   "execution_count": 1,
   "metadata": {},
   "outputs": [
    {
     "data": {
      "text/html": [
       "<style>.container { width:95% !important; }</style>"
      ],
      "text/plain": [
       "<IPython.core.display.HTML object>"
      ]
     },
     "metadata": {},
     "output_type": "display_data"
    }
   ],
   "source": [
    "# Permite establecer la anchura de la celda\n",
    "from IPython.core.display import display, HTML\n",
    "display(HTML(\"<style>.container { width:95% !important; }</style>\"))\n",
    "# Algunas inconsistencias con las versiones dan lugar a avisos molestos. Se ignoran.\n",
    "import warnings\n",
    "warnings.filterwarnings('ignore')"
   ]
  },
  {
   "cell_type": "markdown",
   "metadata": {},
   "source": [
    "### Preparación de los datos\n",
    "\n",
    "<br>\n",
    "El archivo `datos/movies.csv` contiene información sobre películas. En concreto, su identificador (`movieId`), título (`title`), y el género o generos al que pertenece cada una de ellas (`genres`). Esta información será almacenada en el _DataFrame_ `df_movies`."
   ]
  },
  {
   "cell_type": "code",
   "execution_count": 2,
   "metadata": {},
   "outputs": [
    {
     "data": {
      "text/html": [
       "<div>\n",
       "<style>\n",
       "    .dataframe thead tr:only-child th {\n",
       "        text-align: right;\n",
       "    }\n",
       "\n",
       "    .dataframe thead th {\n",
       "        text-align: left;\n",
       "    }\n",
       "\n",
       "    .dataframe tbody tr th {\n",
       "        vertical-align: top;\n",
       "    }\n",
       "</style>\n",
       "<table border=\"1\" class=\"dataframe\">\n",
       "  <thead>\n",
       "    <tr style=\"text-align: right;\">\n",
       "      <th></th>\n",
       "      <th>title</th>\n",
       "      <th>genres</th>\n",
       "    </tr>\n",
       "    <tr>\n",
       "      <th>movieId</th>\n",
       "      <th></th>\n",
       "      <th></th>\n",
       "    </tr>\n",
       "  </thead>\n",
       "  <tbody>\n",
       "    <tr>\n",
       "      <th>1</th>\n",
       "      <td>Toy Story (1995)</td>\n",
       "      <td>Adventure|Animation|Children|Comedy|Fantasy</td>\n",
       "    </tr>\n",
       "    <tr>\n",
       "      <th>2</th>\n",
       "      <td>Jumanji (1995)</td>\n",
       "      <td>Adventure|Children|Fantasy</td>\n",
       "    </tr>\n",
       "    <tr>\n",
       "      <th>176275</th>\n",
       "      <td>Satan Triumphant (1917)</td>\n",
       "      <td>(no genres listed)</td>\n",
       "    </tr>\n",
       "    <tr>\n",
       "      <th>176279</th>\n",
       "      <td>Queerama (2017)</td>\n",
       "      <td>(no genres listed)</td>\n",
       "    </tr>\n",
       "  </tbody>\n",
       "</table>\n",
       "</div>"
      ],
      "text/plain": [
       "                           title                                       genres\n",
       "movieId                                                                      \n",
       "1               Toy Story (1995)  Adventure|Animation|Children|Comedy|Fantasy\n",
       "2                 Jumanji (1995)                   Adventure|Children|Fantasy\n",
       "176275   Satan Triumphant (1917)                           (no genres listed)\n",
       "176279           Queerama (2017)                           (no genres listed)"
      ]
     },
     "metadata": {},
     "output_type": "display_data"
    },
    {
     "name": "stdout",
     "output_type": "stream",
     "text": [
      "Número de películas:  45843\n"
     ]
    }
   ],
   "source": [
    "import pandas as pd\n",
    "import numpy as np\n",
    "\n",
    "df_movies = pd.read_csv(\"datos/movies_big.csv\", sep=',')\n",
    "df_movies.set_index('movieId', inplace=True)\n",
    "# Muestra las dos primeras y las dos últimas\n",
    "display(df_movies.iloc[[0,1, -2,-1]])\n",
    "# Número de películas (no siguen una secuencia)\n",
    "print(\"Número de películas: \",len(df_movies))"
   ]
  },
  {
   "cell_type": "markdown",
   "metadata": {},
   "source": [
    "#### \"_Genoma_\" de cada película.\n",
    "\n",
    "\n",
    "\n",
    "El segundo conjunto de datos, `datos/genome-scores.csv`, contiene la información sobre el \"_genoma_\" de parte de esas películas, y se almacenará en el _DataFrame_ `df_genome`. En concreto, cada entrada contiene el identificador de la película (`movieId`), el identificador de la etiqueta (`tagId`), y la relevancia de esa etiqueta para la película (`relevance`). Debido a que los identificadores de las etiquetas ocupan posiciones consecutivas, se decrementado `tagId` en una unidad para poder acceder por posición y facilitar el trabajo en caso de ser necesario.\n",
    "\n",
    "<font color=\"#004D7F\"> <i class=\"fa fa-pencil-square-o\" aria-hidden=\"true\" style=\"color:#113D68\"></i></font> Mostrar el número de películas para las que se ha calculado el \"_genoma_\"."
   ]
  },
  {
   "cell_type": "code",
   "execution_count": 3,
   "metadata": {
    "scrolled": true
   },
   "outputs": [
    {
     "data": {
      "text/html": [
       "<div>\n",
       "<style>\n",
       "    .dataframe thead tr:only-child th {\n",
       "        text-align: right;\n",
       "    }\n",
       "\n",
       "    .dataframe thead th {\n",
       "        text-align: left;\n",
       "    }\n",
       "\n",
       "    .dataframe tbody tr th {\n",
       "        vertical-align: top;\n",
       "    }\n",
       "</style>\n",
       "<table border=\"1\" class=\"dataframe\">\n",
       "  <thead>\n",
       "    <tr style=\"text-align: right;\">\n",
       "      <th></th>\n",
       "      <th>movieId</th>\n",
       "      <th>tagId</th>\n",
       "      <th>relevance</th>\n",
       "    </tr>\n",
       "  </thead>\n",
       "  <tbody>\n",
       "    <tr>\n",
       "      <th>12400099</th>\n",
       "      <td>174585</td>\n",
       "      <td>1123</td>\n",
       "      <td>0.07750</td>\n",
       "    </tr>\n",
       "    <tr>\n",
       "      <th>12400100</th>\n",
       "      <td>174585</td>\n",
       "      <td>1124</td>\n",
       "      <td>0.06575</td>\n",
       "    </tr>\n",
       "    <tr>\n",
       "      <th>12400101</th>\n",
       "      <td>174585</td>\n",
       "      <td>1125</td>\n",
       "      <td>0.02050</td>\n",
       "    </tr>\n",
       "    <tr>\n",
       "      <th>12400102</th>\n",
       "      <td>174585</td>\n",
       "      <td>1126</td>\n",
       "      <td>0.11775</td>\n",
       "    </tr>\n",
       "    <tr>\n",
       "      <th>12400103</th>\n",
       "      <td>174585</td>\n",
       "      <td>1127</td>\n",
       "      <td>0.01475</td>\n",
       "    </tr>\n",
       "  </tbody>\n",
       "</table>\n",
       "</div>"
      ],
      "text/plain": [
       "          movieId  tagId  relevance\n",
       "12400099   174585   1123    0.07750\n",
       "12400100   174585   1124    0.06575\n",
       "12400101   174585   1125    0.02050\n",
       "12400102   174585   1126    0.11775\n",
       "12400103   174585   1127    0.01475"
      ]
     },
     "metadata": {},
     "output_type": "display_data"
    },
    {
     "name": "stdout",
     "output_type": "stream",
     "text": [
      "Número de películas: 10993\n"
     ]
    }
   ],
   "source": [
    "# Lee el conjunto de datos\n",
    "df_genome = pd.read_csv('datos/genome-scores.csv',sep=',')\n",
    "# Resta uno a los identificadores de la etiqueta\n",
    "df_genome['tagId'] = df_genome['tagId'] - 1 \n",
    "display(df_genome.tail())\n",
    "\n",
    "#\n",
    "# COMPLETAR\n",
    "#\n",
    "print(\"Número de películas: \"+str(len(df_genome.movieId.unique())))\n",
    "#Número de películas:  10993"
   ]
  },
  {
   "cell_type": "markdown",
   "metadata": {},
   "source": [
    "<br>\n",
    "Cada entrada del conjunto de datos `df_genome` corresponde a la relevancia de un par película/etiqueta. Es posible transformar la tabla de modo que cada fila contenga los datos relativos a una película (cada columna representa una etiqueta) mediante las funciones `DataFrame.pivot_table()` o `DataFrame.unstack()`. En el caso de la segunda, es necesario primero crear un índice jerárquico en el que el primer nivel corresponde al indentificador de la película, y el segundo al identificador de las etiquetas. \n",
    "\n",
    "<font color=\"#004D7F\"> <i class=\"fa fa-pencil-square-o\" aria-hidden=\"true\" style=\"color:#113D68\"></i></font> Convertir el _DataFrame_ `df_genome` a otro con el formato descrito."
   ]
  },
  {
   "cell_type": "code",
   "execution_count": 4,
   "metadata": {},
   "outputs": [
    {
     "data": {
      "text/html": [
       "<div>\n",
       "<style>\n",
       "    .dataframe thead tr:only-child th {\n",
       "        text-align: right;\n",
       "    }\n",
       "\n",
       "    .dataframe thead th {\n",
       "        text-align: left;\n",
       "    }\n",
       "\n",
       "    .dataframe tbody tr th {\n",
       "        vertical-align: top;\n",
       "    }\n",
       "</style>\n",
       "<table border=\"1\" class=\"dataframe\">\n",
       "  <thead>\n",
       "    <tr style=\"text-align: right;\">\n",
       "      <th>tagId</th>\n",
       "      <th>0</th>\n",
       "      <th>1</th>\n",
       "      <th>2</th>\n",
       "      <th>3</th>\n",
       "      <th>4</th>\n",
       "      <th>5</th>\n",
       "      <th>6</th>\n",
       "      <th>7</th>\n",
       "      <th>8</th>\n",
       "      <th>9</th>\n",
       "      <th>...</th>\n",
       "      <th>1118</th>\n",
       "      <th>1119</th>\n",
       "      <th>1120</th>\n",
       "      <th>1121</th>\n",
       "      <th>1122</th>\n",
       "      <th>1123</th>\n",
       "      <th>1124</th>\n",
       "      <th>1125</th>\n",
       "      <th>1126</th>\n",
       "      <th>1127</th>\n",
       "    </tr>\n",
       "    <tr>\n",
       "      <th>movieId</th>\n",
       "      <th></th>\n",
       "      <th></th>\n",
       "      <th></th>\n",
       "      <th></th>\n",
       "      <th></th>\n",
       "      <th></th>\n",
       "      <th></th>\n",
       "      <th></th>\n",
       "      <th></th>\n",
       "      <th></th>\n",
       "      <th></th>\n",
       "      <th></th>\n",
       "      <th></th>\n",
       "      <th></th>\n",
       "      <th></th>\n",
       "      <th></th>\n",
       "      <th></th>\n",
       "      <th></th>\n",
       "      <th></th>\n",
       "      <th></th>\n",
       "      <th></th>\n",
       "    </tr>\n",
       "  </thead>\n",
       "  <tbody>\n",
       "    <tr>\n",
       "      <th>1</th>\n",
       "      <td>0.02475</td>\n",
       "      <td>0.02475</td>\n",
       "      <td>0.049</td>\n",
       "      <td>0.07750</td>\n",
       "      <td>0.12450</td>\n",
       "      <td>0.23875</td>\n",
       "      <td>0.06575</td>\n",
       "      <td>0.28575</td>\n",
       "      <td>0.25400</td>\n",
       "      <td>0.02625</td>\n",
       "      <td>...</td>\n",
       "      <td>0.03125</td>\n",
       "      <td>0.0205</td>\n",
       "      <td>0.04300</td>\n",
       "      <td>0.03375</td>\n",
       "      <td>0.12375</td>\n",
       "      <td>0.0415</td>\n",
       "      <td>0.02125</td>\n",
       "      <td>0.0360</td>\n",
       "      <td>0.10425</td>\n",
       "      <td>0.02750</td>\n",
       "    </tr>\n",
       "    <tr>\n",
       "      <th>174585</th>\n",
       "      <td>0.09675</td>\n",
       "      <td>0.07475</td>\n",
       "      <td>0.030</td>\n",
       "      <td>0.03375</td>\n",
       "      <td>0.09275</td>\n",
       "      <td>0.01850</td>\n",
       "      <td>0.03200</td>\n",
       "      <td>0.08125</td>\n",
       "      <td>0.06375</td>\n",
       "      <td>0.02250</td>\n",
       "      <td>...</td>\n",
       "      <td>0.04900</td>\n",
       "      <td>0.1010</td>\n",
       "      <td>0.03925</td>\n",
       "      <td>0.01675</td>\n",
       "      <td>0.41250</td>\n",
       "      <td>0.0775</td>\n",
       "      <td>0.06575</td>\n",
       "      <td>0.0205</td>\n",
       "      <td>0.11775</td>\n",
       "      <td>0.01475</td>\n",
       "    </tr>\n",
       "  </tbody>\n",
       "</table>\n",
       "<p>2 rows × 1128 columns</p>\n",
       "</div>"
      ],
      "text/plain": [
       "tagId       0        1      2        3        4        5        6        7     \\\n",
       "movieId                                                                         \n",
       "1        0.02475  0.02475  0.049  0.07750  0.12450  0.23875  0.06575  0.28575   \n",
       "174585   0.09675  0.07475  0.030  0.03375  0.09275  0.01850  0.03200  0.08125   \n",
       "\n",
       "tagId       8        9      ...        1118    1119     1120     1121  \\\n",
       "movieId                     ...                                         \n",
       "1        0.25400  0.02625   ...     0.03125  0.0205  0.04300  0.03375   \n",
       "174585   0.06375  0.02250   ...     0.04900  0.1010  0.03925  0.01675   \n",
       "\n",
       "tagId       1122    1123     1124    1125     1126     1127  \n",
       "movieId                                                      \n",
       "1        0.12375  0.0415  0.02125  0.0360  0.10425  0.02750  \n",
       "174585   0.41250  0.0775  0.06575  0.0205  0.11775  0.01475  \n",
       "\n",
       "[2 rows x 1128 columns]"
      ]
     },
     "execution_count": 4,
     "metadata": {},
     "output_type": "execute_result"
    }
   ],
   "source": [
    "index = pd.MultiIndex.from_arrays([df_genome.movieId.as_matrix(),df_genome.tagId.as_matrix()],names=('movieId', 'tagId'))\n",
    "df_genome = pd.Series(df_genome.relevance.as_matrix(), index=index)\n",
    "df_genome = df_genome.unstack()\n",
    "\n",
    "# Muestra la primera y última fila\n",
    "df_genome.iloc[[0,-1]]"
   ]
  },
  {
   "cell_type": "markdown",
   "metadata": {},
   "source": [
    "Para gran parte de las películas (la mayoría) no existe el \"_genoma_\" y, por tanto, no pueden ser utilizadas en la construcción de un sistema basado en contenido. Además, estas películas suelen ser las menos populares. Por tanto, y también con el fin de agilizar el trabajo, serán descartadas. \n",
    "\n",
    "<font color=\"#004D7F\"> <i class=\"fa fa-pencil-square-o\" aria-hidden=\"true\" style=\"color:#113D68\"></i></font> \n",
    "Borrar del _DataFrame_ `df_movies` las películas para las que no existe el genoma. "
   ]
  },
  {
   "cell_type": "code",
   "execution_count": 5,
   "metadata": {},
   "outputs": [
    {
     "data": {
      "text/plain": [
       "(10993, 2)"
      ]
     },
     "execution_count": 5,
     "metadata": {},
     "output_type": "execute_result"
    }
   ],
   "source": [
    "pelis_index = np.array(df_genome.index)\n",
    "df_movies = df_movies[np.array(df_movies.index.isin(pelis_index))]\n",
    "df_movies.shape\n",
    "# (10993, 2)"
   ]
  },
  {
   "cell_type": "markdown",
   "metadata": {},
   "source": [
    "#### Valoraciones de los usuarios\n",
    "\n",
    "Por otra parte, el conjunto de datos `./datos/ratings.csv` contiene el conjunto de votaciones de 270000 usuarios para más de 45000 películas. Estos datos se almacenarán en un _DataFrame_ con cuatro columnas que contienen el identificador del usuario (`userId`), el identificador de la película (`movieId`), la valoración (`rating`), y una marca de tiempo (`timestamp`)."
   ]
  },
  {
   "cell_type": "code",
   "execution_count": 6,
   "metadata": {},
   "outputs": [
    {
     "data": {
      "text/html": [
       "<div>\n",
       "<style>\n",
       "    .dataframe thead tr:only-child th {\n",
       "        text-align: right;\n",
       "    }\n",
       "\n",
       "    .dataframe thead th {\n",
       "        text-align: left;\n",
       "    }\n",
       "\n",
       "    .dataframe tbody tr th {\n",
       "        vertical-align: top;\n",
       "    }\n",
       "</style>\n",
       "<table border=\"1\" class=\"dataframe\">\n",
       "  <thead>\n",
       "    <tr style=\"text-align: right;\">\n",
       "      <th></th>\n",
       "      <th>userId</th>\n",
       "      <th>movieId</th>\n",
       "      <th>rating</th>\n",
       "      <th>timestamp</th>\n",
       "    </tr>\n",
       "  </thead>\n",
       "  <tbody>\n",
       "    <tr>\n",
       "      <th>0</th>\n",
       "      <td>1</td>\n",
       "      <td>110</td>\n",
       "      <td>1.0</td>\n",
       "      <td>1425941529</td>\n",
       "    </tr>\n",
       "    <tr>\n",
       "      <th>1</th>\n",
       "      <td>1</td>\n",
       "      <td>147</td>\n",
       "      <td>4.5</td>\n",
       "      <td>1425942435</td>\n",
       "    </tr>\n",
       "    <tr>\n",
       "      <th>2</th>\n",
       "      <td>1</td>\n",
       "      <td>858</td>\n",
       "      <td>5.0</td>\n",
       "      <td>1425941523</td>\n",
       "    </tr>\n",
       "    <tr>\n",
       "      <th>3</th>\n",
       "      <td>1</td>\n",
       "      <td>1221</td>\n",
       "      <td>5.0</td>\n",
       "      <td>1425941546</td>\n",
       "    </tr>\n",
       "    <tr>\n",
       "      <th>4</th>\n",
       "      <td>1</td>\n",
       "      <td>1246</td>\n",
       "      <td>5.0</td>\n",
       "      <td>1425941556</td>\n",
       "    </tr>\n",
       "  </tbody>\n",
       "</table>\n",
       "</div>"
      ],
      "text/plain": [
       "   userId  movieId  rating   timestamp\n",
       "0       1      110     1.0  1425941529\n",
       "1       1      147     4.5  1425942435\n",
       "2       1      858     5.0  1425941523\n",
       "3       1     1221     5.0  1425941546\n",
       "4       1     1246     5.0  1425941556"
      ]
     },
     "metadata": {},
     "output_type": "display_data"
    },
    {
     "data": {
      "text/plain": [
       "(26024289, 4)"
      ]
     },
     "execution_count": 6,
     "metadata": {},
     "output_type": "execute_result"
    }
   ],
   "source": [
    "df_ratings = pd.read_csv('./datos/ratings.csv')\n",
    "display(df_ratings.head())\n",
    "df_ratings.shape\n",
    "#(26024289, 4)"
   ]
  },
  {
   "cell_type": "markdown",
   "metadata": {},
   "source": [
    "El _DataFrame_ `df_ratings` contiene más de veintiseis millones de filas. Además de que el tratamiento de esta información requiere cantidades de tiempo que impiden trabajar con agilidad, algunos de estos datos, como los relativos a películas vistas por poca gente, o usuarios con perfil atípico,  pueden ser prescindibles y serán descartados también. \n",
    "<font color=\"#004D7F\"> <i class=\"fa fa-pencil-square-o\" aria-hidden=\"true\" style=\"color:#113D68\"></i></font> Eliminar todas las entradas de `df_ratings` que correspondan a una película cuyo \"_genoma_\" no exista. "
   ]
  },
  {
   "cell_type": "code",
   "execution_count": 7,
   "metadata": {},
   "outputs": [
    {
     "data": {
      "text/plain": [
       "(25574834, 4)"
      ]
     },
     "execution_count": 7,
     "metadata": {},
     "output_type": "execute_result"
    }
   ],
   "source": [
    "df_ratings = df_ratings[df_ratings.movieId.isin(pelis_index)]\n",
    "df_ratings.shape\n",
    "#(25574834, 4)"
   ]
  },
  {
   "cell_type": "markdown",
   "metadata": {},
   "source": [
    "<font color=\"#004D7F\"> <i class=\"fa fa-pencil-square-o\" aria-hidden=\"true\" style=\"color:#113D68\"></i></font> Eliminar también aquellas películas que no hayan sido vistas por, al menos, un 1% de los usuarios (2700)."
   ]
  },
  {
   "cell_type": "code",
   "execution_count": 8,
   "metadata": {},
   "outputs": [
    {
     "data": {
      "text/plain": [
       "(20433096, 4)"
      ]
     },
     "execution_count": 8,
     "metadata": {},
     "output_type": "execute_result"
    }
   ],
   "source": [
    "df_ratings = df_ratings.groupby('movieId').filter(lambda x: len(x)>=2700)\n",
    "df_ratings.shape\n",
    "#(20433096, 4)"
   ]
  },
  {
   "cell_type": "markdown",
   "metadata": {},
   "source": [
    "Existen distintos tipos de usuarios. Algunos votan un número excesivamente reducido de películas, lo que impide determinar su perfil con precisión; por otro, existen algunos otros usuarios que han valorado un número excesivamente alto de películas, y que pueden no ser tampoco útiles a la hora de determinar un perfil. En estos casos, la exploracíon previa de las variables puede resultar de utilidad.\n",
    "\n",
    "<font color=\"#004D7F\"> <i class=\"fa fa-pencil-square-o\" aria-hidden=\"true\" style=\"color:#113D68\"></i></font> Dibujar un histograma con el número de películas valoradas por cada usuario. "
   ]
  },
  {
   "cell_type": "code",
   "execution_count": 9,
   "metadata": {},
   "outputs": [
    {
     "data": {
      "text/plain": [
       "<matplotlib.axes._subplots.AxesSubplot at 0x7f4b58462d68>"
      ]
     },
     "execution_count": 9,
     "metadata": {},
     "output_type": "execute_result"
    },
    {
     "data": {
      "image/png": "[encoded data removed]",
      "text/plain": [
       "<matplotlib.figure.Figure at 0x7f4b805c83c8>"
      ]
     },
     "metadata": {},
     "output_type": "display_data"
    }
   ],
   "source": [
    "import matplotlib.pyplot as plt\n",
    "%matplotlib inline\n",
    "\n",
    "df_ratings.groupby('userId')['movieId'].count().hist(bins=50)"
   ]
  },
  {
   "cell_type": "markdown",
   "metadata": {},
   "source": [
    "Puede observarse que existe un numero significativo de usuarios que han valorado más de 250 películas. Estos responden a un perfil particular y probablemente menos marcado que otros usuarios que hayan votado menos. Esa información siempre es positiva pero, por agilidad, se prescindirá de ellos. Tampoco resultan de utilidad los usuarios que hayan visto pocas películas. \n",
    "\n",
    "<font color=\"#004D7F\"> <i class=\"fa fa-pencil-square-o\" aria-hidden=\"true\" style=\"color:#113D68\"></i></font> Eliminar las valoraciones de aquellos usuarios que han votado menos de 5 y más de 200 películas. "
   ]
  },
  {
   "cell_type": "code",
   "execution_count": 10,
   "metadata": {},
   "outputs": [
    {
     "data": {
      "text/plain": [
       "(10127238, 4)"
      ]
     },
     "execution_count": 10,
     "metadata": {},
     "output_type": "execute_result"
    }
   ],
   "source": [
    "df_ratings = df_ratings.groupby('userId').filter(lambda x: len(x)>5 and len(x)<=200)\n",
    "\n",
    "df_ratings.shape\n",
    "# (10127238, 4) 10270063"
   ]
  },
  {
   "cell_type": "markdown",
   "metadata": {},
   "source": [
    "#### Popularidad\n",
    "\n",
    "Por último, el archivo `datos/popularity.csv` contiene información sobre la popularidad de cada película. Esta información ha sido obtenida de la base de datos _The Movie Database_ , a la que también se ha recurrido en prácticas anteriores, y se almacenará en el _DataFrame_ `df_popularity`."
   ]
  },
  {
   "cell_type": "code",
   "execution_count": 11,
   "metadata": {},
   "outputs": [
    {
     "data": {
      "text/html": [
       "<div>\n",
       "<style>\n",
       "    .dataframe thead tr:only-child th {\n",
       "        text-align: right;\n",
       "    }\n",
       "\n",
       "    .dataframe thead th {\n",
       "        text-align: left;\n",
       "    }\n",
       "\n",
       "    .dataframe tbody tr th {\n",
       "        vertical-align: top;\n",
       "    }\n",
       "</style>\n",
       "<table border=\"1\" class=\"dataframe\">\n",
       "  <thead>\n",
       "    <tr style=\"text-align: right;\">\n",
       "      <th></th>\n",
       "      <th>popularity</th>\n",
       "    </tr>\n",
       "    <tr>\n",
       "      <th>movieId</th>\n",
       "      <th></th>\n",
       "    </tr>\n",
       "  </thead>\n",
       "  <tbody>\n",
       "    <tr>\n",
       "      <th>1</th>\n",
       "      <td>21.946943</td>\n",
       "    </tr>\n",
       "    <tr>\n",
       "      <th>2</th>\n",
       "      <td>17.015539</td>\n",
       "    </tr>\n",
       "    <tr>\n",
       "      <th>3</th>\n",
       "      <td>11.712900</td>\n",
       "    </tr>\n",
       "    <tr>\n",
       "      <th>4</th>\n",
       "      <td>3.859495</td>\n",
       "    </tr>\n",
       "    <tr>\n",
       "      <th>5</th>\n",
       "      <td>8.387519</td>\n",
       "    </tr>\n",
       "  </tbody>\n",
       "</table>\n",
       "</div>"
      ],
      "text/plain": [
       "         popularity\n",
       "movieId            \n",
       "1         21.946943\n",
       "2         17.015539\n",
       "3         11.712900\n",
       "4          3.859495\n",
       "5          8.387519"
      ]
     },
     "execution_count": 11,
     "metadata": {},
     "output_type": "execute_result"
    }
   ],
   "source": [
    "df_popularity = pd.read_csv('datos/popularity.csv', index_col=0)\n",
    "df_popularity.head()"
   ]
  },
  {
   "cell_type": "markdown",
   "metadata": {},
   "source": [
    "Llegados a este punto, se dispone de 4 _DataFrames_:\n",
    "\n",
    "* `df_movies`: Con el identificador, título y géneros de cada película.\n",
    "* `df_genome`: Con el genoma de cada película.\n",
    "* `df_ratings`: Con las votaciones para cada película. \n",
    "* `df_popularity`: Con la popularidad de cada película. \n"
   ]
  },
  {
   "cell_type": "markdown",
   "metadata": {},
   "source": [
    "<div style=\"text-align: right\"> <font size=5> [<i class=\"fa fa-arrow-circle-up\" aria-hidden=\"true\" style=\"color:#990003\">](#principio)</i></font></div>\n",
    "\n",
    "---\n",
    "\n",
    "\n",
    "## 2. Sistema de recomendación basado en contenido\n",
    "\n",
    "<br>\n",
    "La recomendación basada en contenido determina los ítems, películas en este caso, más similares a las mejor valoradas por el usuario; y devuelve un subconjunto de éstas. Aunque existen varias formas para llevar a cabo la implementación, en cada consulta es necesario determinar el conjunto de ítems más cercanos a otro u otros. Puesto que las similaridades/distancias no cambian, es preferible pre-calcularlas y almacenarlas al principio. \n",
    "\n",
    "\n",
    "<font color=\"#004D7F\"> <i class=\"fa fa-pencil-square-o\" aria-hidden=\"true\" style=\"color:#113D68\"></i></font>  Calcular las distancias euclídeas entre películas y almacenarlas en una matriz denominada `distances`.   Crear una otra matriz, denominada `ord_similarities`, en la que cada fila represente una película, y contenga los índices de las distancias con el resto, ordenados de menor a mayor. \n",
    "\n",
    "<div class=\"alert alert-block alert-warning\">\n",
    "<i class=\"fa fa-exclamation-circle\" aria-hidden=\"true\"></i>\n",
    "En este caso, el primer elemento de cada fila es el índice de la propia película, ya que la distancia entre cada película consigo misma es cero. Este hecho debe ser tenido en cuenta después. Por otra parte, las dos funciones se pueden implementar en dos líneas. \n",
    "</div>"
   ]
  },
  {
   "cell_type": "code",
   "execution_count": 12,
   "metadata": {
    "collapsed": true
   },
   "outputs": [],
   "source": [
    "from sklearn.metrics import pairwise_distances\n",
    "\n",
    "distances = pairwise_distances(df_genome)\n",
    "ord_similarities = distances.argsort(axis=1)"
   ]
  },
  {
   "cell_type": "markdown",
   "metadata": {},
   "source": [
    "#### Funciones para el trabajo con dos tablas (es necesario hacerlo y es una situación que nos vamos a encontrar a menudo)\n",
    "\n",
    "Una vez obtenidas las similaridades, es posible encontrar las películas más similares a otra (u otras) dado su identificador. Sin embargo, es necesario tener en cuenta que los identificadores y las posiciones de las películas en la matriz de distancias no coinciden. Por tanto, para trabajar con la matriz de similaridades, es necesario llevar a cabo las conversiones correspondientes. Aunque no es lo más óptimo, la mejor opción para evitar errores es crear sendas funciones.\n",
    "\n",
    "<font color=\"#004D7F\"> <i class=\"fa fa-pencil-square-o\" aria-hidden=\"true\" style=\"color:#113D68\"></i></font> Implementar una función, denominada `get_pos_from_ids` que devuelva las posiciones de un conjunto de películas que será representado por un array con sus identificadores."
   ]
  },
  {
   "cell_type": "code",
   "execution_count": 13,
   "metadata": {},
   "outputs": [
    {
     "data": {
      "text/plain": [
       "[0, 5021, 10987]"
      ]
     },
     "execution_count": 13,
     "metadata": {},
     "output_type": "execute_result"
    }
   ],
   "source": [
    "def get_pos_from_ids(query_ids):\n",
    "    pos = dict(zip(df_genome.index,range(len(df_genome.index))))\n",
    "    return [pos[x] for x in query_ids]\n",
    "\n",
    "query_ids = [1,5765,172547]\n",
    "query_pos = get_pos_from_ids(query_ids)\n",
    "query_pos\n",
    "# array([    0,  5021, 10987])"
   ]
  },
  {
   "cell_type": "markdown",
   "metadata": {},
   "source": [
    "<font color=\"#004D7F\"> <i class=\"fa fa-pencil-square-o\" aria-hidden=\"true\" style=\"color:#113D68\"></i></font> Implementar una función, denominada `get_ids_from_pos` que, dado un array con las posiciones de un conjunto de películas, devuelva sus identificadores. "
   ]
  },
  {
   "cell_type": "code",
   "execution_count": 14,
   "metadata": {},
   "outputs": [
    {
     "data": {
      "text/plain": [
       "[1, 5765, 172547]"
      ]
     },
     "execution_count": 14,
     "metadata": {},
     "output_type": "execute_result"
    }
   ],
   "source": [
    "def get_ids_from_pos(query_pos):\n",
    "    ids = dict(enumerate(df_genome.index))\n",
    "    return [ids[x] for x in query_pos]\n",
    "    \n",
    "query_pos = [0,5021, 10987]\n",
    "query_ids = get_ids_from_pos(query_pos)\n",
    "query_ids\n",
    "\n",
    "#array([     1,   5765, 172547])"
   ]
  },
  {
   "cell_type": "markdown",
   "metadata": {},
   "source": [
    "### Recuperación de las k películas más similares a  cada película. \n",
    "\n",
    "<br>\n",
    "Una posibilidad a la hora de hacer recomendación basada en contenido consiste en devolver las $k$ películas más similares a las mejor valoradas por el usuario. \n",
    "\n",
    "<font color=\"#004D7F\"> <i class=\"fa fa-pencil-square-o\" aria-hidden=\"true\" style=\"color:#113D68\"></i></font> Implementar una función, denominada `get_similar_movies` que tome como argumentos un array denominado `movie_ids`, con los identificadores de una serie de películas, y un entero, `k`, y devuelva las $k$ películas más similares a cada una de las películas en `movie_ids`. El resultado de la funcion ha de ser un array unidimensional en el que __no se repitan__ elementos y en el que ningún `id` esté incluído en `movie_ids`."
   ]
  },
  {
   "cell_type": "code",
   "execution_count": 15,
   "metadata": {},
   "outputs": [
    {
     "data": {
      "text/plain": [
       "array([  2354,   2355,   3034,   3114,   4090,   4886,  56176, 104076,\n",
       "       135887])"
      ]
     },
     "execution_count": 15,
     "metadata": {},
     "output_type": "execute_result"
    }
   ],
   "source": [
    "def get_most_similar(movie_ids, k):\n",
    "    pos = get_pos_from_ids(movie_ids)\n",
    "    pos = np.unique(ord_similarities[pos,1:k+1].flatten())\n",
    "    ids = get_ids_from_pos(pos)\n",
    "    ids = np.setdiff1d(ids, movie_ids)\n",
    "    return ids\n",
    "\n",
    "query_ids = [1, 5765, 172547]\n",
    "most_similar_ids = get_most_similar(query_ids, 3)\n",
    "most_similar_ids\n",
    "#array([  2354,   2355,   3034,   3114,   4090,   4886,  56176, 104076, 135887])"
   ]
  },
  {
   "cell_type": "markdown",
   "metadata": {},
   "source": [
    "<font color=\"#004D7F\"> <i class=\"fa fa-pencil-square-o\" aria-hidden=\"true\" style=\"color:#113D68\"></i></font> Imprimir los nombres de las tres películas de la consulta (`query_ids`) y de las películas similares (`most_similar_ids`). "
   ]
  },
  {
   "cell_type": "code",
   "execution_count": 16,
   "metadata": {},
   "outputs": [
    {
     "name": "stdout",
     "output_type": "stream",
     "text": [
      "La películas de la consulta son: \n"
     ]
    },
    {
     "data": {
      "text/html": [
       "<div>\n",
       "<style>\n",
       "    .dataframe thead tr:only-child th {\n",
       "        text-align: right;\n",
       "    }\n",
       "\n",
       "    .dataframe thead th {\n",
       "        text-align: left;\n",
       "    }\n",
       "\n",
       "    .dataframe tbody tr th {\n",
       "        vertical-align: top;\n",
       "    }\n",
       "</style>\n",
       "<table border=\"1\" class=\"dataframe\">\n",
       "  <thead>\n",
       "    <tr style=\"text-align: right;\">\n",
       "      <th></th>\n",
       "      <th>title</th>\n",
       "      <th>genres</th>\n",
       "    </tr>\n",
       "    <tr>\n",
       "      <th>movieId</th>\n",
       "      <th></th>\n",
       "      <th></th>\n",
       "    </tr>\n",
       "  </thead>\n",
       "  <tbody>\n",
       "    <tr>\n",
       "      <th>1</th>\n",
       "      <td>Toy Story (1995)</td>\n",
       "      <td>Adventure|Animation|Children|Comedy|Fantasy</td>\n",
       "    </tr>\n",
       "    <tr>\n",
       "      <th>5765</th>\n",
       "      <td>Looney, Looney, Looney Bugs Bunny Movie, The (...</td>\n",
       "      <td>Animation|Children|Comedy</td>\n",
       "    </tr>\n",
       "    <tr>\n",
       "      <th>172547</th>\n",
       "      <td>Despicable Me 3 (2017)</td>\n",
       "      <td>Adventure|Animation|Children|Comedy</td>\n",
       "    </tr>\n",
       "  </tbody>\n",
       "</table>\n",
       "</div>"
      ],
      "text/plain": [
       "                                                     title  \\\n",
       "movieId                                                      \n",
       "1                                         Toy Story (1995)   \n",
       "5765     Looney, Looney, Looney Bugs Bunny Movie, The (...   \n",
       "172547                              Despicable Me 3 (2017)   \n",
       "\n",
       "                                              genres  \n",
       "movieId                                               \n",
       "1        Adventure|Animation|Children|Comedy|Fantasy  \n",
       "5765                       Animation|Children|Comedy  \n",
       "172547           Adventure|Animation|Children|Comedy  "
      ]
     },
     "metadata": {},
     "output_type": "display_data"
    },
    {
     "name": "stdout",
     "output_type": "stream",
     "text": [
      "\n",
      "La películas similares son: \n"
     ]
    },
    {
     "data": {
      "text/html": [
       "<div>\n",
       "<style>\n",
       "    .dataframe thead tr:only-child th {\n",
       "        text-align: right;\n",
       "    }\n",
       "\n",
       "    .dataframe thead th {\n",
       "        text-align: left;\n",
       "    }\n",
       "\n",
       "    .dataframe tbody tr th {\n",
       "        vertical-align: top;\n",
       "    }\n",
       "</style>\n",
       "<table border=\"1\" class=\"dataframe\">\n",
       "  <thead>\n",
       "    <tr style=\"text-align: right;\">\n",
       "      <th></th>\n",
       "      <th>title</th>\n",
       "      <th>genres</th>\n",
       "    </tr>\n",
       "    <tr>\n",
       "      <th>movieId</th>\n",
       "      <th></th>\n",
       "      <th></th>\n",
       "    </tr>\n",
       "  </thead>\n",
       "  <tbody>\n",
       "    <tr>\n",
       "      <th>2354</th>\n",
       "      <td>Rugrats Movie, The (1998)</td>\n",
       "      <td>Animation|Children|Comedy</td>\n",
       "    </tr>\n",
       "    <tr>\n",
       "      <th>2355</th>\n",
       "      <td>Bug's Life, A (1998)</td>\n",
       "      <td>Adventure|Animation|Children|Comedy</td>\n",
       "    </tr>\n",
       "    <tr>\n",
       "      <th>3034</th>\n",
       "      <td>Robin Hood (1973)</td>\n",
       "      <td>Adventure|Animation|Children|Comedy|Musical</td>\n",
       "    </tr>\n",
       "    <tr>\n",
       "      <th>3114</th>\n",
       "      <td>Toy Story 2 (1999)</td>\n",
       "      <td>Adventure|Animation|Children|Comedy|Fantasy</td>\n",
       "    </tr>\n",
       "    <tr>\n",
       "      <th>4090</th>\n",
       "      <td>Brave Little Toaster, The (1987)</td>\n",
       "      <td>Animation|Children</td>\n",
       "    </tr>\n",
       "    <tr>\n",
       "      <th>4886</th>\n",
       "      <td>Monsters, Inc. (2001)</td>\n",
       "      <td>Adventure|Animation|Children|Comedy|Fantasy</td>\n",
       "    </tr>\n",
       "    <tr>\n",
       "      <th>56176</th>\n",
       "      <td>Alvin and the Chipmunks (2007)</td>\n",
       "      <td>Children|Comedy</td>\n",
       "    </tr>\n",
       "    <tr>\n",
       "      <th>104076</th>\n",
       "      <td>Smurfs 2, The (2013)</td>\n",
       "      <td>Animation|Children|Comedy</td>\n",
       "    </tr>\n",
       "    <tr>\n",
       "      <th>135887</th>\n",
       "      <td>Minions (2015)</td>\n",
       "      <td>Adventure|Animation|Children|Comedy</td>\n",
       "    </tr>\n",
       "  </tbody>\n",
       "</table>\n",
       "</div>"
      ],
      "text/plain": [
       "                                    title  \\\n",
       "movieId                                     \n",
       "2354            Rugrats Movie, The (1998)   \n",
       "2355                 Bug's Life, A (1998)   \n",
       "3034                    Robin Hood (1973)   \n",
       "3114                   Toy Story 2 (1999)   \n",
       "4090     Brave Little Toaster, The (1987)   \n",
       "4886                Monsters, Inc. (2001)   \n",
       "56176      Alvin and the Chipmunks (2007)   \n",
       "104076               Smurfs 2, The (2013)   \n",
       "135887                     Minions (2015)   \n",
       "\n",
       "                                              genres  \n",
       "movieId                                               \n",
       "2354                       Animation|Children|Comedy  \n",
       "2355             Adventure|Animation|Children|Comedy  \n",
       "3034     Adventure|Animation|Children|Comedy|Musical  \n",
       "3114     Adventure|Animation|Children|Comedy|Fantasy  \n",
       "4090                              Animation|Children  \n",
       "4886     Adventure|Animation|Children|Comedy|Fantasy  \n",
       "56176                                Children|Comedy  \n",
       "104076                     Animation|Children|Comedy  \n",
       "135887           Adventure|Animation|Children|Comedy  "
      ]
     },
     "metadata": {},
     "output_type": "display_data"
    }
   ],
   "source": [
    "print(\"La películas de la consulta son: \")\n",
    "display(df_movies.loc[query_ids])\n",
    "\n",
    "print(\"\\nLa películas similares son: \")\n",
    "display(df_movies.loc[most_similar_ids])"
   ]
  },
  {
   "cell_type": "markdown",
   "metadata": {},
   "source": [
    "<br>\n",
    "\n",
    "### Recomendación para un usuario\n",
    "\n",
    "Es posible recomendar a un usuario películas similares a las que mejor ha valorado. En primer lugar, se elegirá un usuario de manera aleatoria. "
   ]
  },
  {
   "cell_type": "code",
   "execution_count": 17,
   "metadata": {},
   "outputs": [
    {
     "data": {
      "text/plain": [
       "160780"
      ]
     },
     "execution_count": 17,
     "metadata": {},
     "output_type": "execute_result"
    }
   ],
   "source": [
    "np.random.seed(1)\n",
    "user_id = np.random.choice(df_ratings['userId'].unique(),1)[0]\n",
    "user_id"
   ]
  },
  {
   "cell_type": "markdown",
   "metadata": {},
   "source": [
    "Solamente se considerarán de interés aquellas películas valoradas por el usuario de manera positiva. En concreto, solamente aquellas para las que la votación es igual a 5. \n",
    "\n",
    "<div class=\"alert alert-block alert-warning\">\n",
    "<i class=\"fa fa-exclamation-circle\" aria-hidden=\"true\"></i>\n",
    "Obviamente, habría que mejorar esta decisión para considerar usuarios que no tienen películas valoradas con 5, pero no lo haremos en esta práctica porque son detalles secundarios. \n",
    "</div>\n",
    "\n",
    "\n",
    "<font color=\"#004D7F\"> <i class=\"fa fa-pencil-square-o\" aria-hidden=\"true\" style=\"color:#113D68\"></i></font> Implementar una función denominada `get_similar_movies_user` que reciba como argumento el identificador de un usuario, y un parámetro $k$, y devuelva un array con las $k$ películas más parecidas a cada una de las que el usuario ha valorado con 5. Utilizar la función `get_similar_movies`, implementada anteriormente."
   ]
  },
  {
   "cell_type": "code",
   "execution_count": 18,
   "metadata": {},
   "outputs": [
    {
     "name": "stdout",
     "output_type": "stream",
     "text": [
      "Películas similares:  37\n"
     ]
    }
   ],
   "source": [
    "def get_sim_movies_user(user_id,k):\n",
    "    pelis = df_ratings[(df_ratings.rating == 5) & (df_ratings.userId == user_id)].movieId.values\n",
    "    return get_most_similar(pelis,k)\n",
    "    \n",
    "rec = get_sim_movies_user(user_id,5)\n",
    "print(\"Películas similares: \", rec.shape[0])\n",
    "\n",
    "#Películas similares:  37"
   ]
  },
  {
   "cell_type": "markdown",
   "metadata": {},
   "source": [
    "Como puede verse, el usuario ha votado varias películas, y son muchas las candidatas. Esta recomendación no resulta útil, y debe ser refinada. Una opción consiste en utilizar un menor número de vecinos, o ponderar las veces que aparece cada película entre los vecinos. Sin embargo, pueden seleccionarse las películas que serán recomendadas mediante otro criterio. Por ejemplo, puede usarse la popularidad. \n",
    "\n",
    "<font color=\"#004D7F\"> <i class=\"fa fa-pencil-square-o\" aria-hidden=\"true\" style=\"color:#113D68\"></i></font> Implementar una función, denominada `get_recommendation_user_CB` que, dados un usuario y un parámetro $k$, obtenga las películas similares a las valoradas con $5$, ordenadas por popularidad decreciente. Mostrar los títulos de las 10 más populares de entre ellas. "
   ]
  },
  {
   "cell_type": "code",
   "execution_count": 60,
   "metadata": {},
   "outputs": [
    {
     "name": "stdout",
     "output_type": "stream",
     "text": [
      "La películas de preferidas por el usuario son: \n"
     ]
    },
    {
     "data": {
      "text/html": [
       "<div>\n",
       "<style>\n",
       "    .dataframe thead tr:only-child th {\n",
       "        text-align: right;\n",
       "    }\n",
       "\n",
       "    .dataframe thead th {\n",
       "        text-align: left;\n",
       "    }\n",
       "\n",
       "    .dataframe tbody tr th {\n",
       "        vertical-align: top;\n",
       "    }\n",
       "</style>\n",
       "<table border=\"1\" class=\"dataframe\">\n",
       "  <thead>\n",
       "    <tr style=\"text-align: right;\">\n",
       "      <th></th>\n",
       "      <th>title</th>\n",
       "      <th>genres</th>\n",
       "    </tr>\n",
       "    <tr>\n",
       "      <th>movieId</th>\n",
       "      <th></th>\n",
       "      <th></th>\n",
       "    </tr>\n",
       "  </thead>\n",
       "  <tbody>\n",
       "    <tr>\n",
       "      <th>296</th>\n",
       "      <td>Pulp Fiction (1994)</td>\n",
       "      <td>Comedy|Crime|Drama|Thriller</td>\n",
       "    </tr>\n",
       "    <tr>\n",
       "      <th>858</th>\n",
       "      <td>Godfather, The (1972)</td>\n",
       "      <td>Crime|Drama</td>\n",
       "    </tr>\n",
       "    <tr>\n",
       "      <th>1206</th>\n",
       "      <td>Clockwork Orange, A (1971)</td>\n",
       "      <td>Crime|Drama|Sci-Fi|Thriller</td>\n",
       "    </tr>\n",
       "    <tr>\n",
       "      <th>1213</th>\n",
       "      <td>Goodfellas (1990)</td>\n",
       "      <td>Crime|Drama</td>\n",
       "    </tr>\n",
       "    <tr>\n",
       "      <th>1221</th>\n",
       "      <td>Godfather: Part II, The (1974)</td>\n",
       "      <td>Crime|Drama</td>\n",
       "    </tr>\n",
       "    <tr>\n",
       "      <th>2858</th>\n",
       "      <td>American Beauty (1999)</td>\n",
       "      <td>Drama|Romance</td>\n",
       "    </tr>\n",
       "    <tr>\n",
       "      <th>2959</th>\n",
       "      <td>Fight Club (1999)</td>\n",
       "      <td>Action|Crime|Drama|Thriller</td>\n",
       "    </tr>\n",
       "    <tr>\n",
       "      <th>3949</th>\n",
       "      <td>Requiem for a Dream (2000)</td>\n",
       "      <td>Drama</td>\n",
       "    </tr>\n",
       "    <tr>\n",
       "      <th>4262</th>\n",
       "      <td>Scarface (1983)</td>\n",
       "      <td>Action|Crime|Drama</td>\n",
       "    </tr>\n",
       "    <tr>\n",
       "      <th>58559</th>\n",
       "      <td>Dark Knight, The (2008)</td>\n",
       "      <td>Action|Crime|Drama|IMAX</td>\n",
       "    </tr>\n",
       "    <tr>\n",
       "      <th>91529</th>\n",
       "      <td>Dark Knight Rises, The (2012)</td>\n",
       "      <td>Action|Adventure|Crime|IMAX</td>\n",
       "    </tr>\n",
       "  </tbody>\n",
       "</table>\n",
       "</div>"
      ],
      "text/plain": [
       "                                  title                       genres\n",
       "movieId                                                             \n",
       "296                 Pulp Fiction (1994)  Comedy|Crime|Drama|Thriller\n",
       "858               Godfather, The (1972)                  Crime|Drama\n",
       "1206         Clockwork Orange, A (1971)  Crime|Drama|Sci-Fi|Thriller\n",
       "1213                  Goodfellas (1990)                  Crime|Drama\n",
       "1221     Godfather: Part II, The (1974)                  Crime|Drama\n",
       "2858             American Beauty (1999)                Drama|Romance\n",
       "2959                  Fight Club (1999)  Action|Crime|Drama|Thriller\n",
       "3949         Requiem for a Dream (2000)                        Drama\n",
       "4262                    Scarface (1983)           Action|Crime|Drama\n",
       "58559           Dark Knight, The (2008)      Action|Crime|Drama|IMAX\n",
       "91529     Dark Knight Rises, The (2012)  Action|Adventure|Crime|IMAX"
      ]
     },
     "metadata": {},
     "output_type": "display_data"
    },
    {
     "name": "stdout",
     "output_type": "stream",
     "text": [
      "\n",
      "La películas recomendadas son: \n"
     ]
    },
    {
     "data": {
      "text/html": [
       "<div>\n",
       "<style>\n",
       "    .dataframe thead tr:only-child th {\n",
       "        text-align: right;\n",
       "    }\n",
       "\n",
       "    .dataframe thead th {\n",
       "        text-align: left;\n",
       "    }\n",
       "\n",
       "    .dataframe tbody tr th {\n",
       "        vertical-align: top;\n",
       "    }\n",
       "</style>\n",
       "<table border=\"1\" class=\"dataframe\">\n",
       "  <thead>\n",
       "    <tr style=\"text-align: right;\">\n",
       "      <th></th>\n",
       "      <th>title</th>\n",
       "      <th>genres</th>\n",
       "    </tr>\n",
       "    <tr>\n",
       "      <th>movieId</th>\n",
       "      <th></th>\n",
       "      <th></th>\n",
       "    </tr>\n",
       "  </thead>\n",
       "  <tbody>\n",
       "    <tr>\n",
       "      <th>122920</th>\n",
       "      <td>Captain America: Civil War (2016)</td>\n",
       "      <td>Action|Sci-Fi|Thriller</td>\n",
       "    </tr>\n",
       "    <tr>\n",
       "      <th>168252</th>\n",
       "      <td>Logan (2017)</td>\n",
       "      <td>Action|Sci-Fi</td>\n",
       "    </tr>\n",
       "    <tr>\n",
       "      <th>33794</th>\n",
       "      <td>Batman Begins (2005)</td>\n",
       "      <td>Action|Crime|IMAX</td>\n",
       "    </tr>\n",
       "    <tr>\n",
       "      <th>128360</th>\n",
       "      <td>The Hateful Eight (2015)</td>\n",
       "      <td>Western</td>\n",
       "    </tr>\n",
       "    <tr>\n",
       "      <th>1258</th>\n",
       "      <td>Shining, The (1980)</td>\n",
       "      <td>Horror</td>\n",
       "    </tr>\n",
       "    <tr>\n",
       "      <th>778</th>\n",
       "      <td>Trainspotting (1996)</td>\n",
       "      <td>Comedy|Crime|Drama</td>\n",
       "    </tr>\n",
       "    <tr>\n",
       "      <th>48516</th>\n",
       "      <td>Departed, The (2006)</td>\n",
       "      <td>Crime|Drama|Thriller</td>\n",
       "    </tr>\n",
       "    <tr>\n",
       "      <th>4878</th>\n",
       "      <td>Donnie Darko (2001)</td>\n",
       "      <td>Drama|Mystery|Sci-Fi|Thriller</td>\n",
       "    </tr>\n",
       "    <tr>\n",
       "      <th>1945</th>\n",
       "      <td>On the Waterfront (1954)</td>\n",
       "      <td>Crime|Drama</td>\n",
       "    </tr>\n",
       "    <tr>\n",
       "      <th>60684</th>\n",
       "      <td>Watchmen (2009)</td>\n",
       "      <td>Action|Drama|Mystery|Sci-Fi|Thriller|IMAX</td>\n",
       "    </tr>\n",
       "  </tbody>\n",
       "</table>\n",
       "</div>"
      ],
      "text/plain": [
       "                                     title  \\\n",
       "movieId                                      \n",
       "122920   Captain America: Civil War (2016)   \n",
       "168252                        Logan (2017)   \n",
       "33794                 Batman Begins (2005)   \n",
       "128360            The Hateful Eight (2015)   \n",
       "1258                   Shining, The (1980)   \n",
       "778                   Trainspotting (1996)   \n",
       "48516                 Departed, The (2006)   \n",
       "4878                   Donnie Darko (2001)   \n",
       "1945              On the Waterfront (1954)   \n",
       "60684                      Watchmen (2009)   \n",
       "\n",
       "                                            genres  \n",
       "movieId                                             \n",
       "122920                      Action|Sci-Fi|Thriller  \n",
       "168252                               Action|Sci-Fi  \n",
       "33794                            Action|Crime|IMAX  \n",
       "128360                                     Western  \n",
       "1258                                        Horror  \n",
       "778                             Comedy|Crime|Drama  \n",
       "48516                         Crime|Drama|Thriller  \n",
       "4878                 Drama|Mystery|Sci-Fi|Thriller  \n",
       "1945                                   Crime|Drama  \n",
       "60684    Action|Drama|Mystery|Sci-Fi|Thriller|IMAX  "
      ]
     },
     "metadata": {},
     "output_type": "display_data"
    }
   ],
   "source": [
    "def get_recommendation_user_CB(user_id,k):\n",
    "    df_user_rating = df_ratings[(df_ratings.rating == 5) & (df_ratings.userId == user_id)]\n",
    "    pelis = df_user_rating.movieId.values\n",
    "    pelis_similares = get_most_similar(pelis,k)\n",
    "    df_pelis_similares = df_movies.loc[pelis_similares]\n",
    "    df_pelis_similares['popularity'] = df_popularity.loc[pelis_similares].values\n",
    "    return df_pelis_similares.sort_values('popularity',ascending=False).index\n",
    "\n",
    "recommended = get_recommendation_user_CB(user_id,5)[:10]\n",
    "\n",
    "print(\"La películas de preferidas por el usuario son: \")\n",
    "display(df_movies.loc[df_ratings[(df_ratings['userId']==user_id) & (df_ratings['rating']==5)]['movieId']])\n",
    "\n",
    "print(\"\\nLa películas recomendadas son: \")\n",
    "display(df_movies.loc[recommended])"
   ]
  },
  {
   "cell_type": "markdown",
   "metadata": {},
   "source": [
    "<div style=\"text-align: right\"> <font size=5> [<i class=\"fa fa-arrow-circle-up\" aria-hidden=\"true\" style=\"color:#990003\">](#principio)</i></font></div>\n",
    "\n",
    "---\n",
    "\n",
    "\n",
    "## 3. Filtrado colaborativo\n",
    "\n",
    "\n",
    "<br>\n",
    "En la propuesta anterior no se han considerado las votaciones del usuario y otros usuarios para llevar a cabo la recomendación. Esta información, no obstante, es útil. La librería `surprise` es una de las más populares para llevar a cabo filtrado colaborativo. En este caso, la utilizaremos para aprender un modelo basado en SVD (parecido al visto en clase). Éste aprende dos matrices que permiten caracterizar usuarios y películas. En este caso, se utilizarán 10 factores. \n",
    "\n",
    "\n",
    "<div class=\"alert alert-block alert-info\">\n",
    "<i class=\"fa fa-info-circle\" aria-hidden=\"true\"></i> El autor principal de la librería describe en una serie de artículos [enlace](http://nicolas-hug.com/blog/) como funciona la versión básica de este algoritmo. La lectura es muy recomendable porque también explica PCA y la relación de SVD con PCA. \n",
    "</div>"
   ]
  },
  {
   "cell_type": "code",
   "execution_count": 20,
   "metadata": {
    "collapsed": true
   },
   "outputs": [],
   "source": [
    "from surprise import SVD, Dataset, Reader\n",
    "from surprise.model_selection.split import train_test_split\n",
    "\n",
    "reader = Reader()\n",
    "ratings_data = Dataset.load_from_df(df_ratings[['userId', 'movieId', 'rating']], reader).build_full_trainset()\n",
    "svd = SVD(n_factors=10)\n",
    "svd.fit(ratings_data);"
   ]
  },
  {
   "cell_type": "markdown",
   "metadata": {},
   "source": [
    "Los modelos en `surprise` cuentan con una función, denominada `svd.predict(uid, iid)` que devuelve el score para un usuario/ítem. En concreto, esta función devuelve una tupla, siendo el elemento con índice 3 el score. \n",
    "\n",
    "<font color=\"#004D7F\"> <i class=\"fa fa-pencil-square-o\" aria-hidden=\"true\" style=\"color:#113D68\"></i></font>  Implementar una función, denominada `get_recommendation_user_CF` que, dado un usuario, devuelva las películas __no valoradas todavía__  ordenadas de mejor a peor score. Mostrar 10 películas con mejor score."
   ]
  },
  {
   "cell_type": "code",
   "execution_count": 100,
   "metadata": {},
   "outputs": [
    {
     "name": "stdout",
     "output_type": "stream",
     "text": [
      "(4.20) In the Mood For Love (Fa yeung nin wa) (2000)\n",
      "(4.20) Once Upon a Time in the West (C'era una volta il West) (1968)\n",
      "(4.18) Fog of War: Eleven Lessons from the Life of Robert S. McNamara, The (2003)\n",
      "(4.15) Seven Samurai (Shichinin no samurai) (1954)\n",
      "(4.15) Three Colors: Blue (Trois couleurs: Bleu) (1993)\n",
      "(4.14) Down by Law (1986)\n",
      "(4.13) Lives of Others, The (Das leben der Anderen) (2006)\n",
      "(4.12) 400 Blows, The (Les quatre cents coups) (1959)\n",
      "(4.12) Wings of Desire (Himmel über Berlin, Der) (1987)\n",
      "(4.12) Midnight Cowboy (1969)\n"
     ]
    }
   ],
   "source": [
    "def get_recommendation_user_CF(user_id):\n",
    "    pelis = df_ratings[df_ratings.userId == user_id].movieId.values\n",
    "    pelis_indices = df_movies.index\n",
    "    pelis_no_valoradas = set(pelis_indices) - set(pelis)\n",
    "    df_pelis_no_valoradas = df_movies.loc[pelis_no_valoradas]\n",
    "    df_pelis_no_valoradas['popularity'] = [svd.predict(user_id,movie_id)[3] for movie_id in pelis_no_valoradas]\n",
    "    df_pelis_no_valoradas.sort_values('popularity',ascending=False,inplace=True)\n",
    "    recommended = list(zip(df_pelis_no_valoradas.index,df_pelis_no_valoradas.popularity))\n",
    "    return recommended\n",
    "\n",
    "recommendation = get_recommendation_user_CF(user_id)[:10]\n",
    "\n",
    "for (movie_id, score) in recommendation:\n",
    "    print(\"({:.2f})\".format(score), df_movies.loc[movie_id]['title'])"
   ]
  },
  {
   "cell_type": "markdown",
   "metadata": {},
   "source": [
    "<div style=\"text-align: right\"> <font size=5> [<i class=\"fa fa-arrow-circle-up\" aria-hidden=\"true\" style=\"color:#990003\">](#principio)</i></font></div>\n",
    "\n",
    "---\n",
    "\n",
    "\n",
    "## 4. Sistema híbrido\n",
    "\n",
    "<br>\n",
    "\n",
    "Anteriormente se ha implementado un sencillo sistema basado en contenido. En el primero, se devolvía un número muy grande de candidatos, que eran filtrados por popularidad. Es posible utilizar los scores proporcionados por el filtrado colaborativo para filtrar las películas más parecidas a las valoradas positivamente por el usuario, en un enfoque híbrido.\n",
    "\n",
    "<font color=\"#004D7F\"> <i class=\"fa fa-pencil-square-o\" aria-hidden=\"true\" style=\"color:#113D68\"></i></font> Utilizar el modelo SVD aprendido anteriormente para implementar una función, denominada `get_recommendation_user_HB` que devuelva las películas  similares a las preferidas por el usuario ordenadas por el score obtenido mediante filtrado colaborativo. "
   ]
  },
  {
   "cell_type": "code",
   "execution_count": 136,
   "metadata": {},
   "outputs": [
    {
     "data": {
      "text/plain": [
       "[(1089, 4.1263954355206991),\n",
       " (48516, 4.1034359052969283),\n",
       " (27773, 4.0976640451282025),\n",
       " (1228, 4.0944103974369943),\n",
       " (778, 4.0651440111720269),\n",
       " (1258, 4.0588527321837846),\n",
       " (4011, 4.0492274849551873),\n",
       " (4226, 4.0172945985226391),\n",
       " (2542, 4.0069971709412462),\n",
       " (4878, 3.9877672996685658)]"
      ]
     },
     "execution_count": 136,
     "metadata": {},
     "output_type": "execute_result"
    }
   ],
   "source": [
    "def get_recommendation_user_HB(user_id,k):\n",
    "    rcmdc_hb = get_recommendation_user_CB(user_id,k)\n",
    "    df_rcmdc_hb = pd.DataFrame(data=np.zeros(len(rcmdc_hb)),columns=['score'],index=rcmdc_hb)\n",
    "    df_rcmdc_hb.score = [svd.predict(user_id,movie_id)[3] for movie_id in df_rcmdc_hb.index]\n",
    "    df_rcmdc_hb.sort_values('score',ascending=False,inplace=True)\n",
    "    df_rcmdc_hb = df_rcmdc_hb[:10]\n",
    "    return list(zip(df_rcmdc_hb.index,df_rcmdc_hb.score))\n",
    "    \n",
    "recommendations = get_recommendation_user_HB(user_id,5)\n",
    "recommendations"
   ]
  },
  {
   "cell_type": "markdown",
   "metadata": {},
   "source": [
    "<font color=\"#004D7F\"> <i class=\"fa fa-pencil-square-o\" aria-hidden=\"true\" style=\"color:#113D68\"></i></font> Mostrar las 10 películas con mayor score. "
   ]
  },
  {
   "cell_type": "code",
   "execution_count": 137,
   "metadata": {},
   "outputs": [
    {
     "name": "stdout",
     "output_type": "stream",
     "text": [
      "\n",
      "\n",
      "Recomendación: \n",
      "----------------------------------\n",
      "(4.13) Reservoir Dogs (1992)\n",
      "(4.10) Departed, The (2006)\n",
      "(4.10) Old Boy (2003)\n",
      "(4.09) Raging Bull (1980)\n",
      "(4.07) Trainspotting (1996)\n",
      "(4.06) Shining, The (1980)\n",
      "(4.05) Snatch (2000)\n",
      "(4.02) Memento (2000)\n",
      "(4.01) Lock, Stock & Two Smoking Barrels (1998)\n",
      "(3.99) Donnie Darko (2001)\n"
     ]
    }
   ],
   "source": [
    "print(\"\\n\\nRecomendación: \")\n",
    "print(\"----------------------------------\")\n",
    "for (movie_id, score) in recommendations:\n",
    "    print(\"({:.2f})\".format(score), df_movies.loc[movie_id]['title'])"
   ]
  },
  {
   "cell_type": "markdown",
   "metadata": {},
   "source": [
    "<div style=\"text-align: right\"> <font size=5> [<i class=\"fa fa-arrow-circle-up\" aria-hidden=\"true\" style=\"color:#990003\">](#principio)</i></font></div>\n",
    "\n",
    "---\n",
    "\n",
    "<div style=\"text-align: right\"> <font size=6><i class=\"fa fa-coffee\" aria-hidden=\"true\" style=\"color:#990003\"></i> </font></div>"
   ]
  },
  {
   "cell_type": "markdown",
   "metadata": {},
   "source": [
    "---\n",
    "<table cellspacing=\"0\" cellpadding=\"0\" border=\"0\">\n",
    "    <tbody>\n",
    "        <tr>\n",
    "            <td rowspan=\"2\">\n",
    "                <div><img height=\"317\" width=\"214\" alt=\"io\" title=\"io\" style=\"background-repeat: no-repeat;backgroundposition: 50%;border-radius: 50%;background-size: 100% auto;\" src=\"https://media.licdn.com/dms/image/C4E03AQED9j4Ps-ibhQ/profile-displayphoto-shrink_200_200/0?e=1526270400&v=alpha&t=tAxeQ_DwETWyaBjFOohvti4cvCU4-RWwZjTQN88gG2U\" </div>\n",
    "            </td>\n",
    "            <td>\n",
    "                <h1 style=\"color:#113D68\"><span>Héctor Fernando Bahamonde Rivera</span></h1>\n",
    "                <hr>\n",
    "                <center><i class=\"fa fa-envelope\" style=\"color:#113D68\"></i></center> \n",
    "                <h2><a href=\"mailto:HectorFernando.Bahamonde@alu.uclm.es\" target=\"_top\">HectorFernando.Bahamonde@alu.uclm.es</a></h2>\n",
    "            </td>\n",
    "        </tr>\n",
    "   </tbody>\n",
    "</table>"
   ]
  }
 ],
 "metadata": {
  "kernelspec": {
   "display_name": "Python 3",
   "language": "python",
   "name": "python3"
  },
  "language_info": {
   "codemirror_mode": {
    "name": "ipython",
    "version": 3
   },
   "file_extension": ".py",
   "mimetype": "text/x-python",
   "name": "python",
   "nbconvert_exporter": "python",
   "pygments_lexer": "ipython3",
   "version": "3.6.3"
  }
 },
 "nbformat": 4,
 "nbformat_minor": 2
}
