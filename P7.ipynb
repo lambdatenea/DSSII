{
    "nbformat_minor": 2, 
    "cells": [
        {
            "execution_count": 2, 
            "cell_type": "code", 
            "metadata": {}, 
            "outputs": [], 
            "source": "# The code was removed by DSX for sharing."
        }, 
        {
            "source": "<a id=\"principio\"></a> \n<img src=\"https://www.dsi.uclm.es/personal/LuisDeLaOssa/muii/logoD.png\" alt=\"Logo MUII\" align=\"right\">\n\n<br><br>\n\n\n## Pr\u00e1ctica 7\n\n# Algoritmo de filtrado colaborativo en Spark\n\n\n<br>\n<div style=\"text-align: right\">\nLuis de la Ossa\n<br>\nMaster Universitario en Ingenier\u00eda Inform\u00e1tica\n<br>\nUniversidad de Castilla-La Mancha\n\n</div>", 
            "cell_type": "markdown", 
            "metadata": {}
        }, 
        {
            "source": "---\n<table cellspacing=\"0\" cellpadding=\"0\" border=\"0\">\n    <tbody>\n        <tr>\n            <td rowspan=\"2\">\n                <div><img height=\"317\" width=\"214\" alt=\"io\" title=\"io\" style=\"background-repeat: no-repeat;backgroundposition: 50%;border-radius: 50%;background-size: 100% auto;\" src=\"https://media.licdn.com/dms/image/C4E03AQED9j4Ps-ibhQ/profile-displayphoto-shrink_200_200/0?e=1533168000&v=beta&t=KeYKeXKTbF7StW-KHF8-o_0zXm-P6RM1vwuLdGFD8tU\" </div>\n            </td>\n            <td>\n                <h1 style=\"color:#113D68\"><span>H\u00e9ctor Fernando Bahamonde Rivera</span></h1>\n                <hr>\n                <center><i class=\"fa fa-envelope\" style=\"color:#113D68\"></i></center> \n                <h2><a href=\"mailto:HectorFernando.Bahamonde@alu.uclm.es\" target=\"_top\">HectorFernando.Bahamonde@alu.uclm.es</a></h2>\n            </td>\n        </tr>\n   </tbody>\n</table>", 
            "cell_type": "markdown", 
            "metadata": {}
        }, 
        {
            "execution_count": 3, 
            "cell_type": "code", 
            "metadata": {}, 
            "outputs": [
                {
                    "output_type": "display_data", 
                    "data": {
                        "text/html": "<style>.container { width:95% !important; }</style>", 
                        "text/plain": "<IPython.core.display.HTML object>"
                    }, 
                    "metadata": {}
                }
            ], 
            "source": "# Permite establecer la anchura de la celda\nfrom IPython.core.display import display, HTML\ndisplay(HTML(\"<style>.container { width:95% !important; }</style>\"))\n# Algunas inconsistencias con las versiones dan lugar a avisos molestos. Se ignoran.\nimport warnings\nwarnings.filterwarnings('ignore')"
        }, 
        {
            "source": "Antes de empezar, se ha de comprobar que est\u00e1 activo el contexto Spark.", 
            "cell_type": "markdown", 
            "metadata": {}
        }, 
        {
            "execution_count": 4, 
            "cell_type": "code", 
            "metadata": {}, 
            "outputs": [
                {
                    "execution_count": 4, 
                    "metadata": {}, 
                    "data": {
                        "text/plain": "<pyspark.context.SparkContext at 0x7f7b9453dc88>"
                    }, 
                    "output_type": "execute_result"
                }
            ], 
            "source": "sc"
        }, 
        {
            "source": "---\n\n## 1. Introducci\u00f3n \n\n<br>\nEl objetivo de esta pr\u00e1ctica es familiarizarse con la programaci\u00f3n y tratamiento de datos en _Apache Spark_. Para ello, se implementar\u00e1 un algoritmo de recomendaci\u00f3n basado en filtrado colaborativo. En concreto, basado en \u00edtems m\u00e1s cercanos.\n\nHay que tener en cuenta que _Spark_ hace las operaciones cuando necesita los datos, y no antes. Por eso, cuando se reportan los errores, \u00e9stos pueden haberse producido en celdas anteriores aparentemente correctas. Con el fin de que pod\u00e1is comprobar cada paso, se ha a\u00f1adido una llamada a la funci\u00f3n `take()` comentada. \n\n<div class=\"alert alert-block alert-info\">\n<i class=\"fa fa-info-circle\" aria-hidden=\"true\"></i> El fin de este trabajo es esencialmente did\u00e1ctico. Por tanto, no todos los pasos est\u00e1n optimizados. Adem\u00e1s, Spark induce una sobrecarga que, para este problema concreto (con estos datos), no compensa, y produce una degradaci\u00f3n del rendimiento con respecto a la implementaci\u00f3n vectorizada con Numpy/Sklearn.\n</div>", 
            "cell_type": "markdown", 
            "metadata": {}
        }, 
        {
            "source": "---\n\n## 2. Lectura de datos\n\nPara esta pr\u00e1ctica, al igual que en la anterior, usaremos un conjunto de datos de [Movielens](https://grouplens.org/datasets/movielens/latest/). En concreto, se trabajar\u00e1 con el conjunto peque\u00f1o, almacenado en los archivos  `movies.csv` y `ratings.csv`.\n\nPara leerlos, es necesario proporcionar una ruta de acceso, que depender\u00e1 de si se trabaja en modo local, o en el entorno DSX de IBM. \n\n<div class=\"alert alert-block alert-warning\">\n<i class=\"fa fa-exclamation-circle\" aria-hidden=\"true\"></i>\nLas siguientes celdas almacenan la ruta de acceso a cada uno de los archivos para el trabajo en modo local. En caso de trabajar en DSX, han de ser generadas autom\u00e1ticamente desde el propio entorno.\n</div>", 
            "cell_type": "markdown", 
            "metadata": {}
        }, 
        {
            "source": "A continuaci\u00f3n, y puesto que la lista de pel\u00edculas solamente se utilizar\u00e1 en modo local, la almacenaremos en un _DataFrame_ Pandas.", 
            "cell_type": "markdown", 
            "metadata": {}
        }, 
        {
            "execution_count": 5, 
            "cell_type": "code", 
            "metadata": {}, 
            "outputs": [], 
            "source": "import pandas as pd\nimport numpy as np\n\n# Acceso al conjunto de datos con la informaci\u00f3n de las pel\u00edculas. \n#path_movies = \"./datos/movies.csv\"\n\n# Acceso al conjunto de datos +con la informaci\u00f3n de las pel\u00edculas desde DSX\npath_movies = project.get_file('movies_big.csv')"
        }, 
        {
            "execution_count": 6, 
            "cell_type": "code", 
            "metadata": {}, 
            "outputs": [
                {
                    "output_type": "display_data", 
                    "data": {
                        "text/html": "<div>\n<style scoped>\n    .dataframe tbody tr th:only-of-type {\n        vertical-align: middle;\n    }\n\n    .dataframe tbody tr th {\n        vertical-align: top;\n    }\n\n    .dataframe thead th {\n        text-align: right;\n    }\n</style>\n<table border=\"1\" class=\"dataframe\">\n  <thead>\n    <tr style=\"text-align: right;\">\n      <th></th>\n      <th>title</th>\n      <th>genres</th>\n    </tr>\n    <tr>\n      <th>movieId</th>\n      <th></th>\n      <th></th>\n    </tr>\n  </thead>\n  <tbody>\n    <tr>\n      <th>1</th>\n      <td>Toy Story (1995)</td>\n      <td>Adventure|Animation|Children|Comedy|Fantasy</td>\n    </tr>\n    <tr>\n      <th>2</th>\n      <td>Jumanji (1995)</td>\n      <td>Adventure|Children|Fantasy</td>\n    </tr>\n    <tr>\n      <th>176275</th>\n      <td>Satan Triumphant (1917)</td>\n      <td>(no genres listed)</td>\n    </tr>\n    <tr>\n      <th>176279</th>\n      <td>Queerama (2017)</td>\n      <td>(no genres listed)</td>\n    </tr>\n  </tbody>\n</table>\n</div>", 
                        "text/plain": "                           title                                       genres\nmovieId                                                                      \n1               Toy Story (1995)  Adventure|Animation|Children|Comedy|Fantasy\n2                 Jumanji (1995)                   Adventure|Children|Fantasy\n176275   Satan Triumphant (1917)                           (no genres listed)\n176279           Queerama (2017)                           (no genres listed)"
                    }, 
                    "metadata": {}
                }, 
                {
                    "output_type": "stream", 
                    "name": "stdout", 
                    "text": "N\u00famero de pel\u00edculas:  45843\n"
                }
            ], 
            "source": "df_movies = pd.read_csv(path_movies, sep=',', index_col=0)\n# Muestra las dos primeras y las dos \u00faltimas\ndisplay(df_movies.iloc[[0,1, -2,-1]])\n# N\u00famero de pel\u00edculas (no siguen una secuencia)\nprint(\"N\u00famero de pel\u00edculas: \",len(df_movies))"
        }, 
        {
            "source": "Los datos relativos a las votaciones se almacenar\u00e1n en un RDD.", 
            "cell_type": "markdown", 
            "metadata": {}
        }, 
        {
            "execution_count": 7, 
            "cell_type": "code", 
            "metadata": {}, 
            "outputs": [], 
            "source": "path_file = project.get_file('ratings.csv')\nratings = []\nfor line in path_file:\n    ratings.append(str(line).replace(\"b'\",\"\").replace(\"\\\\r\\\\n'\",\"\"))"
        }, 
        {
            "execution_count": 8, 
            "cell_type": "code", 
            "metadata": {}, 
            "outputs": [
                {
                    "execution_count": 8, 
                    "metadata": {}, 
                    "data": {
                        "text/plain": "['1,31,2.5,1260759144', '1,1029,3.0,1260759179', '1,1061,3.0,1260759182']"
                    }, 
                    "output_type": "execute_result"
                }
            ], 
            "source": "dataRDD = sc.parallelize(ratings) #textFile('ratings.csv')\ndataRDD.take(3)\n# ['1,31,2.5,1260759144', '1,1029,3.0,1260759179', '1,1061,3.0,1260759182']"
        }, 
        {
            "source": "---\n\n## 3. Algoritmo de recomendaci\u00f3n basado en similaridad entre pel\u00edculas.\n\nEn esta parte implementaremos un algoritmo basado en similaridad entre \u00edtems. Posteriormente, se obtendr\u00e1n las pel\u00edculas similares a una dada. \n\nLa t\u00e9cnica es parecida a la vista en clase. Dadas dos pel\u00edculas, su similaridad se obtiene a partir de las valoraciones que han hecho los usuarios que hayan visto ambas. Hemos de situarnos en un contexto en el que el n\u00famero de usuarios es muy grande. ", 
            "cell_type": "markdown", 
            "metadata": {}
        }, 
        {
            "source": "#### <font color=\"#004D7F\"> <i class=\"fa fa-pencil-square-o\" aria-hidden=\"true\" style=\"color:#113D68\"></i>  Ejercicio 1 </font> \nEn primer lugar, vamos a convertir el RDD de texto en un RDD con tuplas `(user_id, (movie_id, rating))`, denominado `ratingsRDD`, en el que `user_id` y `movie_id` son enteros, y `rating`es float. Utilizar la funci\u00f3n `map`.", 
            "cell_type": "markdown", 
            "metadata": {}
        }, 
        {
            "execution_count": 9, 
            "cell_type": "code", 
            "metadata": {}, 
            "outputs": [
                {
                    "execution_count": 9, 
                    "metadata": {}, 
                    "data": {
                        "text/plain": "[(1, (31, 2.5)), (1, (1029, 3.0)), (1, (1061, 3.0))]"
                    }, 
                    "output_type": "execute_result"
                }
            ], 
            "source": "ratingsRDD = dataRDD.map(lambda x: (int(x.split(',')[0]),(int(x.split(',')[1]),float(x.split(',')[2]))))\n\nratingsRDD.take(3)\n#[(1, (31, 2.5)), (1, (1029, 3.0)), (1, (1061, 3.0))]"
        }, 
        {
            "source": "De cara a dise\u00f1ar el algoritmo, el principal factor a tener en cuenta es que se van a comparar pares de pel\u00edculas, y para ello solamente se consider\u00e1n las valoraciones de usuarios que hayan visto ambas. Por ejemplo, si dos pel\u00edculas `movie_A`y `movie_B` han sido valoradas por cinco usuarios,\n\n$$\nmovie\\_A = [ 0, 2, 4, 0, 1] \\quad movie\\_B = [1 ,3, 5, 0, 0], \n$$\n\nsolamente se se utilizar\u00e1n las valoraciones de los usuarios 2 y 3, que han visto ambas pel\u00edculas. Visto de otro modo, m\u00e1s aproximado a c\u00f3mo se proceder\u00e1 aqu\u00ed, el usuario 1, por ejemplo, no se tendr\u00e1 en cuenta para calcular la distancia entre la pel\u00edcula `movie_A` y ninguna otra. Por ello, en primer lugar se van a generar los pares de pel\u00edculas vistas por un mismo usuario. \n\nEn el apartado anterior se han generado tuplas del tipo `(user_id, (movie_id, rating))`. Si se hace un _inner join_ de `ratingsRDD` consigo mismo, cada entrada del primer RDD se unir\u00e1 con las entradas del segundo RDD con las que comparta clave (`user_id`), generando tuplas del tipo:  `(user_id, ((movie_id1, rating1), (movie_id2, rating2))`.\n\n\n\n#### <font color=\"#004D7F\"> <i class=\"fa fa-pencil-square-o\" aria-hidden=\"true\" style=\"color:#113D68\"></i>  Ejercicio 2 </font> \n\nHacer un join del RDD `ratingsRDD` y almacenar el resultado en otro denominado `join_ratingsRDD`.", 
            "cell_type": "markdown", 
            "metadata": {}
        }, 
        {
            "execution_count": 10, 
            "cell_type": "code", 
            "metadata": {}, 
            "outputs": [
                {
                    "execution_count": 10, 
                    "metadata": {}, 
                    "data": {
                        "text/plain": "[(256, ((3, 3.0), (3, 3.0))),\n (256, ((3, 3.0), (5, 3.0))),\n (256, ((3, 3.0), (6, 3.0)))]"
                    }, 
                    "output_type": "execute_result"
                }
            ], 
            "source": "join_ratingsRDD = ratingsRDD.join(ratingsRDD)\n\n\njoin_ratingsRDD.take(3)\n#[(256, ((3, 3.0), (3, 3.0))),\n# (256, ((3, 3.0), (5, 3.0))),\n# (256, ((3, 3.0), (6, 3.0)))]"
        }, 
        {
            "source": "En este punto, cada par de pel\u00edculas vistas por un usuario aparece dos veces en `join_ratingsRDD`, ya que tambi\u00e9n aparecer\u00edan en orden inverso. Es decir, por cada entrada `(user_id, ((movie_id1, rating1), (movie_id2, rating2))` tendr\u00edamos otra como `(user_id, ((movie_id2, rating2), (movie_id1, rating1))`. Para eliminar los duplicados, vamos a dejar solamente aquellas entradas en las que el \u00edndice de la primera pel\u00edcula `movie_id1`, sea menor que el de la segunda `movie_id2`.\n", 
            "cell_type": "markdown", 
            "metadata": {}
        }, 
        {
            "source": "#### <font color=\"#004D7F\"> <i class=\"fa fa-pencil-square-o\" aria-hidden=\"true\" style=\"color:#113D68\"></i>  Ejercicio 3 </font> \n\nImplementar una funci\u00f3n denominada `filter_duplicates` que reciba una tupla del tipo `((movie_id1, rating1), (movie_id2, rating2))` y devuelva `True` cuando `movie_id1 < movie_id2`, y `False` en caso contrario. ", 
            "cell_type": "markdown", 
            "metadata": {}
        }, 
        {
            "execution_count": 11, 
            "cell_type": "code", 
            "metadata": {}, 
            "outputs": [
                {
                    "execution_count": 11, 
                    "metadata": {}, 
                    "data": {
                        "text/plain": "False"
                    }, 
                    "output_type": "execute_result"
                }
            ], 
            "source": "def filter_duplicates(ratings): \n    return (ratings[1][0][0] < ratings[1][1][0])\nfilter_duplicates((256, ((223, 3.0), (43, 3.0))))"
        }, 
        {
            "source": "#### <font color=\"#004D7F\"> <i class=\"fa fa-pencil-square-o\" aria-hidden=\"true\" style=\"color:#113D68\"></i>  Ejercicio 4 </font> \n\nUtilizar la funci\u00f3n anterior para eliminar los duplicados de `join_ratingsRDD`, mediante `filter`. \n\n<div class=\"alert alert-block alert-warning\">\n<i class=\"fa fa-exclamation-circle\" aria-hidden=\"true\"></i>\nCada entrada de `join_ratingsRDD` es una tupla `(user_id, ((movie_id1, rating1), (movie_id2, rating2))`. Por tanto, a la funci\u00f3n `filter_duplicates` hay que pasarle el segundo de los componentes de la tupla, ya que el primero es `user_id`.\n</div>", 
            "cell_type": "markdown", 
            "metadata": {}
        }, 
        {
            "execution_count": 12, 
            "cell_type": "code", 
            "metadata": {}, 
            "outputs": [
                {
                    "execution_count": 12, 
                    "metadata": {}, 
                    "data": {
                        "text/plain": "[(256, ((3, 3.0), (5, 3.0))),\n (256, ((3, 3.0), (6, 3.0))),\n (256, ((3, 3.0), (7, 3.0)))]"
                    }, 
                    "output_type": "execute_result"
                }
            ], 
            "source": "join_ratingsRDD = join_ratingsRDD.filter(lambda x: filter_duplicates(x))\n \n\njoin_ratingsRDD.take(3)\n#[(256, ((3, 3.0), (5, 3.0))),\n# (256, ((3, 3.0), (6, 3.0))),\n# (256, ((3, 3.0), (7, 3.0)))]"
        }, 
        {
            "source": "\nEn este punto, se dispone de entradas `(user_id, ((movie_id1, rating1), (movie_id2, rating2))`. De cara a computar la similaridad entre pel\u00edculas, se incluir\u00e1n en los vectores correspondientes a las pel\u00edculas `movie_id1` y `movie_id2` las valoraciones correspondientes al usuario `user_id`.  Sin embargo, el usuario en s\u00ed es irrelevante. Por otra parte, de cara a hacer los c\u00e1lculos de similaridad, se han de considerar pares de pel\u00edculas valoradas por un mismo usuario. \n\n#### <font color=\"#004D7F\"> <i class=\"fa fa-pencil-square-o\" aria-hidden=\"true\" style=\"color:#113D68\"></i>  Ejercicio 5 </font> \n\nTransformar el RDD `join_ratingsRDD` en el que las entradas son del tipo,  `(user_id, ((movie_id1, rating1), (movie_id2, rating2))`, en un RDD pareado denominado `movie_pairsRDD`, en el que las entradas sean de tipo `((movie_id1, movie_id2),(rating1, rating2))`. Utilizar la funci\u00f3n `map`.", 
            "cell_type": "markdown", 
            "metadata": {}
        }, 
        {
            "execution_count": 13, 
            "cell_type": "code", 
            "metadata": {}, 
            "outputs": [
                {
                    "execution_count": 13, 
                    "metadata": {}, 
                    "data": {
                        "text/plain": "[((3, 3.0), (5, 3.0)), ((3, 3.0), (6, 3.0)), ((3, 3.0), (7, 3.0))]"
                    }, 
                    "output_type": "execute_result"
                }
            ], 
            "source": "movie_pairsRDD = join_ratingsRDD.map(lambda x: (x[1][0],x[1][1]))\n\n\nmovie_pairsRDD.take(3)\n#[((3, 5), (3.0, 3.0)), ((3, 6), (3.0, 3.0)), ((3, 7), (3.0, 3.0))]"
        }, 
        {
            "source": "<div class=\"alert alert-block alert-danger\">\n<i class=\"fa fa-exclamation-triangle\" aria-hidden=\"true\"></i>\n__OJO!__ Esta \u00faltima operaci\u00f3n genera un RDD de gran tama\u00f1o. Algunas operaciones sobre \u00e9ste pueden requerir varios minutos. \n</div>", 
            "cell_type": "markdown", 
            "metadata": {}
        }, 
        {
            "execution_count": 13, 
            "cell_type": "code", 
            "metadata": {}, 
            "outputs": [
                {
                    "execution_count": 13, 
                    "metadata": {}, 
                    "data": {
                        "text/plain": "25313236"
                    }, 
                    "output_type": "execute_result"
                }
            ], 
            "source": "movie_pairsRDD.count()\n#25313236"
        }, 
        {
            "source": "Para cada poder calcular la similaridad entre un par de pel\u00edculas, han de obtenerse las valoraciones echas por cada usuario que haya visto ambas, es decir, buscar todas las tuplas `(movie_id1, movie_id2)`, y agrupar los pares `(rating1, rating2)` de cada una de ellas.\n\n#### <font color=\"#004D7F\"> <i class=\"fa fa-pencil-square-o\" aria-hidden=\"true\" style=\"color:#113D68\"></i>  Ejercicio 6 </font> \n\nAgrupar las valoraciones existentes en el RDD `movie_pairsRDD` para cada par `(movie_id1, movie_id2)`. Se debe generar un RDD pareado denominado `movie_pairs_ratingsRDD` del tipo `(movie_id1, movie_id2): [(rating1, rating2), (rating1, rating2), ...] `.  Utilizar para ello `groupByKey()`.", 
            "cell_type": "markdown", 
            "metadata": {}
        }, 
        {
            "execution_count": 14, 
            "cell_type": "code", 
            "metadata": {}, 
            "outputs": [
                {
                    "execution_count": 14, 
                    "metadata": {}, 
                    "data": {
                        "text/plain": "[((160, 950), <pyspark.resultiterable.ResultIterable at 0x7f7b66be9e10>),\n ((3727, 67255), <pyspark.resultiterable.ResultIterable at 0x7f7b66be9eb8>),\n ((5152, 156726), <pyspark.resultiterable.ResultIterable at 0x7f7b66be9f28>)]"
                    }, 
                    "output_type": "execute_result"
                }
            ], 
            "source": "movie_pairs_ratingsRDD = movie_pairsRDD.map(lambda x: ((x[0][0],x[1][0]),(x[0][1],x[1][1]))).groupByKey()\n\n\n# Muestra las tres primeras entradas.\nmovie_pairs_ratingsRDD.take(3)\n\n# Este resultado puede cambiar. \n#[((5152, 156726), <pyspark.resultiterable.ResultIterable at 0x7fbdd8d2b3c8>),\n# ((3476, 5846), <pyspark.resultiterable.ResultIterable at 0x7fbdd8d2b438>),\n# ((3704, 90430), <pyspark.resultiterable.ResultIterable at 0x7fbdd8d2bf28>)]"
        }, 
        {
            "source": "\n---\n\n### C\u00e1lculo de la similaridad coseno. \n\nPara cada par de pel\u00edculas, el RDD `movie_pairs_ratingsRDD` contiene una lista de tuplas, con formato,`[(3.0, 4.0), (2.0, 1.0), (3.0, 1.0)]`,  en la que cada tupla representa la valoraci\u00f3n que ha hecho un mismo usuario a ambas. Es decir, la lista del ejemplo corresponder\u00eda al par de vectores `[(3.0, 2.0, 1.0),(4.0, 1.0, 1.0)]`. A partir de esta informaci\u00f3n, es posible calcular la similaridad coseno. Adem\u00e1s, se devolver\u00e1 el n\u00famero de usuarios que ha puntuado las dos pel\u00edculas.", 
            "cell_type": "markdown", 
            "metadata": {}
        }, 
        {
            "execution_count": 15, 
            "cell_type": "code", 
            "metadata": {}, 
            "outputs": [
                {
                    "execution_count": 15, 
                    "metadata": {}, 
                    "data": {
                        "text/plain": "(0.8542821429703302, 3)"
                    }, 
                    "output_type": "execute_result"
                }
            ], 
            "source": "from math import sqrt\n\ndef cos_sim(ratings):\n    num_ratings = 0\n    sum_1 = sum_2= sum_12 = 0    \n    for rating1, rating2 in ratings:\n        sum_1 += rating1 * rating1\n        sum_2 += rating2 * rating2\n        sum_12 += rating1 * rating2\n        num_ratings += 1\n    \n    num = sum_12\n    den = sqrt(sum_1) * sqrt(sum_2)\n\n    return num / float(den), num_ratings\n\ncos_sim([(3.0, 4.0), (2.0, 1.0), (3.0, 1.0)])\n#(0.8542821429703302, 3)"
        }, 
        {
            "source": "#### <font color=\"#004D7F\"> <i class=\"fa fa-pencil-square-o\" aria-hidden=\"true\" style=\"color:#113D68\"></i>  Ejercicio 7 </font> \n\nCalcular la similaridad coseno para cada par de pel\u00edculas de almacenadas en `movie_pairs_ratingsRDD`, y almacenar el resultado en `movie_pair_similaritiesRDD`. Hacer persistente el resultado llamando al m\u00e9todo `cache()`. El resultado incluye la similaridad, as\u00ed como el n\u00famero de personas que han valorado ambas pel\u00edculas (es lo que devuelve la funci\u00f3n `cos_sim`).", 
            "cell_type": "markdown", 
            "metadata": {}
        }, 
        {
            "execution_count": 16, 
            "cell_type": "code", 
            "metadata": {}, 
            "outputs": [
                {
                    "execution_count": 16, 
                    "metadata": {}, 
                    "data": {
                        "text/plain": "[((160, 950), (0.9171382948141402, 4)),\n ((3727, 67255), (1.0, 1)),\n ((5152, 156726), (1.0, 1))]"
                    }, 
                    "output_type": "execute_result"
                }
            ], 
            "source": "movie_pair_similaritiesRDD  = movie_pairs_ratingsRDD.map(lambda x: (x[0],cos_sim(list(x[1])))).cache()\n\n\nmovie_pair_similaritiesRDD.take(3)\n\n# Puede cambiar\n#[((1757, 52241), (1.0, 1)),\n# ((1639, 67087), (0.8497058314499201, 5)),\n# ((2991, 101283), (1.0, 1))]"
        }, 
        {
            "source": "---\n\n## 4. Pel\u00edculas similares a una dada.\n\nA continuaci\u00f3n, se van a generar las pel\u00edculas similares a una dada (la 10). Solamente se considerar\u00e1n aquellas cuya similaridad est\u00e9 por encima de 0.97 y, adem\u00e1s, hayan sido votadas por al menos 20 personas que votaron la pel\u00edcula original. ", 
            "cell_type": "markdown", 
            "metadata": {}
        }, 
        {
            "execution_count": 17, 
            "cell_type": "code", 
            "metadata": {}, 
            "outputs": [], 
            "source": "min_sim = 0.97\nmin_common = 20\nmovie_id = 1"
        }, 
        {
            "source": "\n#### <font color=\"#004D7F\"> <i class=\"fa fa-pencil-square-o\" aria-hidden=\"true\" style=\"color:#113D68\"></i>  Ejercicio 8 </font> \n\nFiltrar los resultados de inter\u00e9s. Es decir, lo que que cumplan los criterios descritos anteriormente y almacenarlos en un RDD denominado `similar_moviesRDD`, es decir, que la primera o la segunda pel\u00edcula sea `movie_id`, que la similaridad est\u00e9 por encima de 0.97, y que el n\u00famero de personas que han visto ambas sea al menos 20.  Utilizar la funci\u00f3n `filter`.", 
            "cell_type": "markdown", 
            "metadata": {}
        }, 
        {
            "execution_count": 18, 
            "cell_type": "code", 
            "metadata": {}, 
            "outputs": [
                {
                    "execution_count": 18, 
                    "metadata": {}, 
                    "data": {
                        "text/plain": "[((1, 76093), (0.9714706917311978, 23)),\n ((1, 29), (0.975119822819981, 26)),\n ((1, 34405), (0.9721097486997603, 27))]"
                    }, 
                    "output_type": "execute_result"
                }
            ], 
            "source": "similar_moviesRDD = movie_pair_similaritiesRDD.filter(lambda x: (movie_id in x[0]) and (min_sim < x[1][0]) and (min_common <= x[1][1]))\n\n\nsimilar_moviesRDD.take(3)\n#[((10, 168), (0.9820054554740041, 24)),\n# ((10, 368), (0.9704045420289952, 36)),\n# ((10, 180), (0.9790187094625074, 21))]"
        }, 
        {
            "source": "#### <font color=\"#004D7F\"> <i class=\"fa fa-pencil-square-o\" aria-hidden=\"true\" style=\"color:#113D68\"></i>  Ejercicio 9 </font> \n\nOrdenar los resultados de `similar_moviesRDD` por similaridad. Utilizar para ello `sortBy`. Devolver los 10 primeros elementos del RDD resultante con `take` y almacenarlos en la lista `results`.\n\n<div class=\"alert alert-block alert-danger\">\n<i class=\"fa fa-exclamation-triangle\" aria-hidden=\"true\"></i>\n__OJO!__ Esta operaci\u00f3n tambi\u00e9n requiere varios minutos.\n</div>", 
            "cell_type": "markdown", 
            "metadata": {}
        }, 
        {
            "execution_count": 19, 
            "cell_type": "code", 
            "metadata": {}, 
            "outputs": [
                {
                    "execution_count": 19, 
                    "metadata": {}, 
                    "data": {
                        "text/plain": "[((1, 29), (0.975119822819981, 26)),\n ((1, 107), (0.9727726133019045, 22)),\n ((1, 150), (0.9717061436864811, 103))]"
                    }, 
                    "output_type": "execute_result"
                }
            ], 
            "source": "results = similar_moviesRDD.sortBy(lambda x: x[0]).take(10)\n\n\nresults[:3]\n#[((1, 78499), (0.9910368615281989, 37)),\n# ((1, 3114), (0.9870973879980668, 101)),\n# ((1, 80463), (0.9862946237042478, 25))]"
        }, 
        {
            "source": "#### <font color=\"#004D7F\"> <i class=\"fa fa-pencil-square-o\" aria-hidden=\"true\" style=\"color:#113D68\"></i>  Ejercicio 10 </font> \n\nMostrar los resultados obtenidos.\n", 
            "cell_type": "markdown", 
            "metadata": {}
        }, 
        {
            "execution_count": 22, 
            "cell_type": "code", 
            "metadata": {}, 
            "outputs": [
                {
                    "output_type": "stream", 
                    "name": "stdout", 
                    "text": "Las 10 pel\u00edculas m\u00e1s parecidas a Toy Story (1995)\n\n\n"
                }, 
                {
                    "output_type": "display_data", 
                    "data": {
                        "text/plain": "movieId\n29     City of Lost Children, The (Cit\u00e9 des enfants p...\n107                        Muppet Treasure Island (1996)\n150                                     Apollo 13 (1995)\n161                                  Crimson Tide (1995)\n163                                     Desperado (1995)\n247                            Heavenly Creatures (1994)\n261                                  Little Women (1994)\n348                         Bullets Over Broadway (1994)\n364                                Lion King, The (1994)\n376                               River Wild, The (1994)\nName: title, dtype: object"
                    }, 
                    "metadata": {}
                }
            ], 
            "source": "print(\"Las 10 pel\u00edculas m\u00e1s parecidas a \" + df_movies.loc[movie_id]['title']+\"\\n\\n\")\nsimilar_movies_id = list(map(lambda x: x[0][1],results))\ndisplay(df_movies.loc[similar_movies_id]['title'])"
        }, 
        {
            "source": "---\n\n## 5. Librer\u00eda MLib: ALS (Alternative Least Squares)\n\nLa librer\u00eda _MLib_ contiene algoritmos de aprendizaje autom\u00e1ticos implementados para ejecutarse sobre la plataforma _Spark_. \n\nComo ejemplo, vamos entrenar un sistema de recomendaci\u00f3n basado en _Alternative Least Squares_. Como se vio en el tema, este algoritmo optimiza tanto los par\u00e1metros que caracterizan las pel\u00edculas ($X$) como los que caracterizan a los usuarios $\\theta$. Es decir, hace una factorizaci\u00f3n de matrices.", 
            "cell_type": "markdown", 
            "metadata": {}
        }, 
        {
            "execution_count": 23, 
            "cell_type": "code", 
            "metadata": {}, 
            "outputs": [], 
            "source": "from pyspark.mllib.recommendation import ALS, Rating"
        }, 
        {
            "source": "#### <font color=\"#004D7F\"> <i class=\"fa fa-pencil-square-o\" aria-hidden=\"true\" style=\"color:#113D68\"></i>  Ejercicio 11 </font> \n\nTransformar los datos del RDD `dataRDD` en otro RDD de objetos `Rating`. Cada uno de ellos se crea como `Rating(user_id, movie_id,rating)`.", 
            "cell_type": "markdown", 
            "metadata": {}
        }, 
        {
            "execution_count": 25, 
            "cell_type": "code", 
            "metadata": {}, 
            "outputs": [
                {
                    "execution_count": 25, 
                    "metadata": {}, 
                    "data": {
                        "text/plain": "[Rating(user=1, product=31, rating=2.5),\n Rating(user=1, product=1029, rating=3.0),\n Rating(user=1, product=1061, rating=3.0)]"
                    }, 
                    "output_type": "execute_result"
                }
            ], 
            "source": "ratingsRDD = dataRDD.map(lambda x: Rating(int(x.split(',')[0]),int(x.split(',')[1]),float(x.split(',')[2])))\nratingsRDD.take(3)"
        }, 
        {
            "source": "#### <font color=\"#004D7F\"> <i class=\"fa fa-pencil-square-o\" aria-hidden=\"true\" style=\"color:#113D68\"></i>  Ejercicio 12 </font> \n\nEntrenar el modelo, con los par\u00e1metros proporcionados (mirar documentaci\u00f3n). ", 
            "cell_type": "markdown", 
            "metadata": {}
        }, 
        {
            "execution_count": 28, 
            "cell_type": "code", 
            "metadata": {}, 
            "outputs": [], 
            "source": "rank = 10\nn_iterations = 6\nmodel = ALS.trainImplicit(ratingsRDD,rank,iterations=n_iterations,seed=10)"
        }, 
        {
            "source": "#### <font color=\"#004D7F\"> <i class=\"fa fa-pencil-square-o\" aria-hidden=\"true\" style=\"color:#113D68\"></i>  Ejercicio 13 </font> \n\nObtener las valoraciones para el usuario 20 y almacenarlas en `user_ratingsRDD`.", 
            "cell_type": "markdown", 
            "metadata": {}
        }, 
        {
            "execution_count": 34, 
            "cell_type": "code", 
            "metadata": {}, 
            "outputs": [
                {
                    "output_type": "stream", 
                    "name": "stdout", 
                    "text": "\nValoraciones para el usuario 20: \n\nEl usuario ha votado 98 pel\u00edculas \n\n\n"
                }
            ], 
            "source": "user_id = 20\nprint(\"\\nValoraciones para el usuario \" + str(user_id) + \": \\n\")\n\n# Filtra por usuario\nuser_ratingsRDD = ratingsRDD.filter(lambda x: x.user == user_id)\n\n\nprint(\"El usuario ha votado %d pel\u00edculas \\n\\n\" % (user_ratingsRDD.count()))"
        }, 
        {
            "source": "#### <font color=\"#004D7F\"> <i class=\"fa fa-pencil-square-o\" aria-hidden=\"true\" style=\"color:#113D68\"></i>  Ejercicio 14 </font> \n\nObtener e imprimir las 10 mejores recomendaciones para el usuario (a partir del objeto `model`) creado anteriormente.", 
            "cell_type": "markdown", 
            "metadata": {}
        }, 
        {
            "execution_count": 104, 
            "cell_type": "code", 
            "metadata": {}, 
            "outputs": [
                {
                    "output_type": "stream", 
                    "name": "stdout", 
                    "text": "\nMejores 10 recomendaciones \n \n"
                }, 
                {
                    "execution_count": 104, 
                    "metadata": {}, 
                    "data": {
                        "text/html": "<div>\n<style scoped>\n    .dataframe tbody tr th:only-of-type {\n        vertical-align: middle;\n    }\n\n    .dataframe tbody tr th {\n        vertical-align: top;\n    }\n\n    .dataframe thead th {\n        text-align: right;\n    }\n</style>\n<table border=\"1\" class=\"dataframe\">\n  <thead>\n    <tr style=\"text-align: right;\">\n      <th></th>\n      <th>title</th>\n      <th>genres</th>\n    </tr>\n  </thead>\n  <tbody>\n    <tr>\n      <th>356</th>\n      <td>Forrest Gump (1994)</td>\n      <td>Comedy|Drama|Romance|War</td>\n    </tr>\n    <tr>\n      <th>318</th>\n      <td>Shawshank Redemption, The (1994)</td>\n      <td>Crime|Drama</td>\n    </tr>\n    <tr>\n      <th>296</th>\n      <td>Pulp Fiction (1994)</td>\n      <td>Comedy|Crime|Drama|Thriller</td>\n    </tr>\n    <tr>\n      <th>593</th>\n      <td>Silence of the Lambs, The (1991)</td>\n      <td>Crime|Horror|Thriller</td>\n    </tr>\n    <tr>\n      <th>260</th>\n      <td>Star Wars: Episode IV - A New Hope (1977)</td>\n      <td>Action|Adventure|Sci-Fi</td>\n    </tr>\n    <tr>\n      <th>480</th>\n      <td>Jurassic Park (1993)</td>\n      <td>Action|Adventure|Sci-Fi|Thriller</td>\n    </tr>\n    <tr>\n      <th>1</th>\n      <td>Toy Story (1995)</td>\n      <td>Adventure|Animation|Children|Comedy|Fantasy</td>\n    </tr>\n    <tr>\n      <th>588</th>\n      <td>Aladdin (1992)</td>\n      <td>Adventure|Animation|Children|Comedy|Musical</td>\n    </tr>\n    <tr>\n      <th>110</th>\n      <td>Braveheart (1995)</td>\n      <td>Action|Drama|War</td>\n    </tr>\n    <tr>\n      <th>527</th>\n      <td>Schindler's List (1993)</td>\n      <td>Drama|War</td>\n    </tr>\n  </tbody>\n</table>\n</div>", 
                        "text/plain": "                                         title  \\\n356                        Forrest Gump (1994)   \n318           Shawshank Redemption, The (1994)   \n296                        Pulp Fiction (1994)   \n593           Silence of the Lambs, The (1991)   \n260  Star Wars: Episode IV - A New Hope (1977)   \n480                       Jurassic Park (1993)   \n1                             Toy Story (1995)   \n588                             Aladdin (1992)   \n110                          Braveheart (1995)   \n527                    Schindler's List (1993)   \n\n                                          genres  \n356                     Comedy|Drama|Romance|War  \n318                                  Crime|Drama  \n296                  Comedy|Crime|Drama|Thriller  \n593                        Crime|Horror|Thriller  \n260                      Action|Adventure|Sci-Fi  \n480             Action|Adventure|Sci-Fi|Thriller  \n1    Adventure|Animation|Children|Comedy|Fantasy  \n588  Adventure|Animation|Children|Comedy|Musical  \n110                             Action|Drama|War  \n527                                    Drama|War  "
                    }, 
                    "output_type": "execute_result"
                }
            ], 
            "source": "print(\"\\nMejores 10 recomendaciones \\n \")\nproducts = user_ratingsRDD.collect()\nlist_products = list(map(lambda x: x[1],products))\ndf_recomendations = pd.DataFrame(index=list_products)\ndf_recomendations['prediction'] = list(map(lambda x: model.predict(user_id, x), list_products))\ndf_recomendations.sort_values(by='prediction', ascending=False,inplace=True)\ndf_movies.loc[df_recomendations.index[:10]]"
        }, 
        {
            "source": "<div style=\"text-align: right\"> <font size=5> [<i class=\"fa fa-arrow-circle-up\" aria-hidden=\"true\" style=\"color:#990003\">](#principio)</i></font></div>\n\n---\n\n<div style=\"text-align: right\"> <font size=6><i class=\"fa fa-coffee\" aria-hidden=\"true\" style=\"color:#990003\"></i> </font></div>", 
            "cell_type": "markdown", 
            "metadata": {}
        }, 
        {
            "execution_count": null, 
            "cell_type": "code", 
            "metadata": {}, 
            "outputs": [], 
            "source": ""
        }
    ], 
    "metadata": {
        "kernelspec": {
            "display_name": "Python 3.5 with Spark 1.6 (Unsupported)", 
            "name": "python3", 
            "language": "python"
        }, 
        "language_info": {
            "mimetype": "text/x-python", 
            "nbconvert_exporter": "python", 
            "version": "3.5.4", 
            "name": "python", 
            "file_extension": ".py", 
            "pygments_lexer": "ipython3", 
            "codemirror_mode": {
                "version": 3, 
                "name": "ipython"
            }
        }
    }, 
    "nbformat": 4
}
